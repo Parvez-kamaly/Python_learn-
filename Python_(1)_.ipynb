{
  "nbformat": 4,
  "nbformat_minor": 0,
  "metadata": {
    "colab": {
      "provenance": [],
      "authorship_tag": "ABX9TyOZOyyskZ37GxhiV6yUmhRB",
      "include_colab_link": true
    },
    "kernelspec": {
      "name": "python3",
      "display_name": "Python 3"
    },
    "language_info": {
      "name": "python"
    }
  },
  "cells": [
    {
      "cell_type": "markdown",
      "metadata": {
        "id": "view-in-github",
        "colab_type": "text"
      },
      "source": [
        "<a href=\"https://colab.research.google.com/github/Parvez-kamaly/Python_learn-/blob/main/Python_(1)_.ipynb\" target=\"_parent\"><img src=\"https://colab.research.google.com/assets/colab-badge.svg\" alt=\"Open In Colab\"/></a>"
      ]
    },
    {
      "cell_type": "code",
      "execution_count": null,
      "metadata": {
        "colab": {
          "base_uri": "https://localhost:8080/"
        },
        "id": "4xDwCViRzv4b",
        "outputId": "53a2f9eb-d380-4105-8583-8665d7496177"
      },
      "outputs": [
        {
          "output_type": "stream",
          "name": "stdout",
          "text": [
            "Hello world\n"
          ]
        }
      ],
      "source": [
        "# This is a comment. it will be not be executed\n",
        "print(\"Hello world\")"
      ]
    },
    {
      "cell_type": "code",
      "source": [
        "\"\"\"\n",
        "This is multiline comment.\n",
        "It can be used to describe larger sections of code.\n",
        "\n",
        "   \"\"\"\n"
      ],
      "metadata": {
        "colab": {
          "base_uri": "https://localhost:8080/",
          "height": 35
        },
        "id": "KoYJ1WQd0b_e",
        "outputId": "8d299269-99df-44c3-d5fe-e9a4f591b219"
      },
      "execution_count": null,
      "outputs": [
        {
          "output_type": "execute_result",
          "data": {
            "text/plain": [
              "'\\nThis is multiline comment. \\nIt can be used to describe larger sections of code.\\n\\n   '"
            ],
            "application/vnd.google.colaboratory.intrinsic+json": {
              "type": "string"
            }
          },
          "metadata": {},
          "execution_count": 2
        }
      ]
    },
    {
      "cell_type": "code",
      "source": [
        "print('I have no indentation')\n",
        "print('I have tab indentaion')"
      ],
      "metadata": {
        "colab": {
          "base_uri": "https://localhost:8080/"
        },
        "id": "_RYurIJl00EA",
        "outputId": "14e9a1c9-779b-45ac-b4cd-b799197cbcf3"
      },
      "execution_count": null,
      "outputs": [
        {
          "output_type": "stream",
          "name": "stdout",
          "text": [
            "I have no indentation\n",
            "I have tab indentaion\n"
          ]
        }
      ]
    },
    {
      "cell_type": "markdown",
      "source": [
        "**INPUT AND OUTPUT IN PYTHON **"
      ],
      "metadata": {
        "id": "PZh4mqOr1q-3"
      }
    },
    {
      "cell_type": "code",
      "source": [
        "name=input('Enter your name')\n",
        "print('Hello',name,'welcome to learning python in geeks force')"
      ],
      "metadata": {
        "colab": {
          "base_uri": "https://localhost:8080/"
        },
        "id": "2BXt4Eg01yPG",
        "outputId": "c0824f4b-9699-4d7a-87cc-4145d4370bc1"
      },
      "execution_count": null,
      "outputs": [
        {
          "output_type": "stream",
          "name": "stdout",
          "text": [
            "Enter your nameParvez Kamaly\n",
            "Hello Parvez Kamaly welcome to learning python in geeks force\n"
          ]
        }
      ]
    },
    {
      "cell_type": "code",
      "source": [
        "name=input('Enter your department name:')\n",
        "print('Welcome to the',name,'Department')"
      ],
      "metadata": {
        "colab": {
          "base_uri": "https://localhost:8080/"
        },
        "id": "lcwaW1Us2FgO",
        "outputId": "ae700a9b-d4b8-4a99-a293-8fee3a5bffa8"
      },
      "execution_count": null,
      "outputs": [
        {
          "output_type": "stream",
          "name": "stdout",
          "text": [
            "Enter your department name:EEE\n",
            "Welcome to the EEE Department\n"
          ]
        }
      ]
    },
    {
      "cell_type": "code",
      "source": [
        "# Single variable\n",
        "s='Bob'\n",
        "print(s)"
      ],
      "metadata": {
        "colab": {
          "base_uri": "https://localhost:8080/"
        },
        "id": "pPAh8Vb-2W6o",
        "outputId": "e37714e7-3df4-4b1c-f3a7-a32060c4b259"
      },
      "execution_count": null,
      "outputs": [
        {
          "output_type": "stream",
          "name": "stdout",
          "text": [
            "Bob\n"
          ]
        }
      ]
    },
    {
      "cell_type": "code",
      "source": [
        "# Multiple variable\n",
        "s='Alice'\n",
        "age=25\n",
        "city='New York'\n",
        "print(s,age,city)"
      ],
      "metadata": {
        "colab": {
          "base_uri": "https://localhost:8080/"
        },
        "id": "wnVdmgfE27GY",
        "outputId": "c2390f6b-ccbb-4f04-94ea-b197bfe08bb1"
      },
      "execution_count": null,
      "outputs": [
        {
          "output_type": "stream",
          "name": "stdout",
          "text": [
            "Alice 25 New York\n"
          ]
        }
      ]
    },
    {
      "cell_type": "code",
      "source": [
        "age=input('Enter your age')\n",
        "print('your age is',age)"
      ],
      "metadata": {
        "colab": {
          "base_uri": "https://localhost:8080/"
        },
        "id": "p81lJ-Bj3D_X",
        "outputId": "44547e59-6766-43e6-9638-8a21fe23f8c4"
      },
      "execution_count": null,
      "outputs": [
        {
          "output_type": "stream",
          "name": "stdout",
          "text": [
            "Enter your age25\n",
            "your age is 25\n"
          ]
        }
      ]
    },
    {
      "cell_type": "code",
      "source": [
        "# Taking two inputs at a time\n",
        "x,y=input('Enter two values: ').split()\n",
        "print('Number of boys:',x)\n",
        "print('Number of girls:',y)"
      ],
      "metadata": {
        "colab": {
          "base_uri": "https://localhost:8080/"
        },
        "id": "n2aRxCKn3Kd3",
        "outputId": "9b7b8341-783e-4b43-87cf-79ccef8259f8"
      },
      "execution_count": null,
      "outputs": [
        {
          "output_type": "stream",
          "name": "stdout",
          "text": [
            "Enter two values: 10 12\n",
            "Number of boys: 10\n",
            "Number of girls: 12\n"
          ]
        }
      ]
    },
    {
      "cell_type": "code",
      "source": [
        "x,y,z=input('Enter three values: ').split()\n",
        "print('Number of Boys: ',x)\n",
        "print('Number of Girls',y)\n",
        "print('Number of Teachers',z)"
      ],
      "metadata": {
        "colab": {
          "base_uri": "https://localhost:8080/"
        },
        "id": "qj26RuaM4HSo",
        "outputId": "2530a2d6-0cc5-4c9d-c149-2f6e5c39bf48"
      },
      "execution_count": null,
      "outputs": [
        {
          "output_type": "stream",
          "name": "stdout",
          "text": [
            "Enter three values: 10 12 5\n",
            "Number of Boys:  10\n",
            "Number of Girls 12\n",
            "Number of Teachers 5\n"
          ]
        }
      ]
    },
    {
      "cell_type": "code",
      "source": [
        "x,y=map(int,input('Enter two numbers: ').split())   #split = divide in input with space  & # map(int,....) make number from string for calculation\n",
        "print(x+y)"
      ],
      "metadata": {
        "colab": {
          "base_uri": "https://localhost:8080/"
        },
        "id": "sq9y-PC24Zc4",
        "outputId": "7580514f-55ae-4d42-d57b-470bec15612b"
      },
      "execution_count": null,
      "outputs": [
        {
          "output_type": "stream",
          "name": "stdout",
          "text": [
            "Enter two numbers: 10 4\n",
            "14\n"
          ]
        }
      ]
    },
    {
      "cell_type": "code",
      "source": [
        "num1,num2=map(int,input('Enter two numbers:').split())\n",
        "print(num1*num2)\n",
        "print(num1/num2)\n",
        "print(num1-num2)\n"
      ],
      "metadata": {
        "colab": {
          "base_uri": "https://localhost:8080/"
        },
        "id": "A4XLjatJ4lef",
        "outputId": "876e603d-7d7c-4897-caa9-0ee75f8559d9"
      },
      "execution_count": null,
      "outputs": [
        {
          "output_type": "stream",
          "name": "stdout",
          "text": [
            "Enter two numbers:20 10\n",
            "200\n",
            "2.0\n",
            "10\n"
          ]
        }
      ]
    },
    {
      "cell_type": "code",
      "source": [
        "# Take input as a string\n",
        "color=input('What color is rose?')\n",
        "print(color)"
      ],
      "metadata": {
        "colab": {
          "base_uri": "https://localhost:8080/"
        },
        "id": "cOuv-2m-6TUx",
        "outputId": "bc31f785-531e-4161-ee0c-94913eab5e6c"
      },
      "execution_count": null,
      "outputs": [
        {
          "output_type": "stream",
          "name": "stdout",
          "text": [
            "What color is rose?red\n",
            "red\n"
          ]
        }
      ]
    },
    {
      "cell_type": "code",
      "source": [
        "name=input('What is your name:')\n",
        "print(name)"
      ],
      "metadata": {
        "colab": {
          "base_uri": "https://localhost:8080/"
        },
        "id": "Pn3jKxuw7isn",
        "outputId": "2dad79e6-22e4-409e-80f9-c438088e8589"
      },
      "execution_count": null,
      "outputs": [
        {
          "output_type": "stream",
          "name": "stdout",
          "text": [
            "What is your name:My name is parvez kamaly\n",
            "My name is parvez kamaly\n"
          ]
        }
      ]
    },
    {
      "cell_type": "code",
      "source": [
        "name=input('What is your name: ')\n",
        "print(name)"
      ],
      "metadata": {
        "colab": {
          "base_uri": "https://localhost:8080/"
        },
        "id": "_GwyV3bI7p9P",
        "outputId": "837a3090-6056-44df-e816-645c8c18d928"
      },
      "execution_count": null,
      "outputs": [
        {
          "output_type": "stream",
          "name": "stdout",
          "text": [
            "What is your name: My name is Parvez kamaly\n",
            "My name is Parvez kamaly\n"
          ]
        }
      ]
    },
    {
      "cell_type": "code",
      "source": [
        "a=input('Hey, how old are you?:')\n",
        "print(a)"
      ],
      "metadata": {
        "colab": {
          "base_uri": "https://localhost:8080/"
        },
        "id": "PWxUDrIB7xQO",
        "outputId": "596b6996-dd85-4615-c650-7e1720cba725"
      },
      "execution_count": null,
      "outputs": [
        {
          "output_type": "stream",
          "name": "stdout",
          "text": [
            "Hey, how old are you?:i am 25 years old \n",
            "i am 25 years old \n"
          ]
        }
      ]
    },
    {
      "cell_type": "code",
      "source": [
        "# Print numbers in python\n",
        "n=int(input('How many years you are live in canada?'))\n",
        "print(n)"
      ],
      "metadata": {
        "colab": {
          "base_uri": "https://localhost:8080/"
        },
        "id": "g9rWfaZ78Hkh",
        "outputId": "acbf62dc-2d37-492b-ccf9-af6435151d47"
      },
      "execution_count": null,
      "outputs": [
        {
          "output_type": "stream",
          "name": "stdout",
          "text": [
            "How many years you are live in canada?10\n",
            "10\n"
          ]
        }
      ]
    },
    {
      "cell_type": "code",
      "source": [
        "a = \"Hello World\"\n",
        "b = 10\n",
        "c = 11.22\n",
        "d = (\"Geeks\", \"for\", \"Geeks\")\n",
        "e = [\"Geeks\", \"for\", \"Geeks\"]\n",
        "f = {\"Geeks\": 1, \"for\":2, \"Geeks\":3}\n",
        "print(type(a))\n",
        "print(type(b))\n",
        "print(type(c))\n",
        "print(type(d))\n",
        "print(type(e))\n",
        "print(type(f))"
      ],
      "metadata": {
        "colab": {
          "base_uri": "https://localhost:8080/"
        },
        "id": "SnL40NNx8k6v",
        "outputId": "bd19b1fa-5f51-4429-aa49-ae8bffb64c0e"
      },
      "execution_count": null,
      "outputs": [
        {
          "output_type": "stream",
          "name": "stdout",
          "text": [
            "<class 'str'>\n",
            "<class 'int'>\n",
            "<class 'float'>\n",
            "<class 'tuple'>\n",
            "<class 'list'>\n",
            "<class 'dict'>\n"
          ]
        }
      ]
    },
    {
      "cell_type": "markdown",
      "source": [
        "**Python variables**"
      ],
      "metadata": {
        "id": "lBOjFvKU-P7x"
      }
    },
    {
      "cell_type": "code",
      "source": [
        "#variable 'x' stores the interger value 5\n",
        "x = 5\n",
        "\n",
        "#variable 'name' store the string 'Parvez kamaly'\n",
        "name='Parvez Kamaly'\n",
        "\n",
        "print(x)\n",
        "print(name)"
      ],
      "metadata": {
        "colab": {
          "base_uri": "https://localhost:8080/"
        },
        "id": "4Q0dbHCM-UtA",
        "outputId": "62ede18d-dda8-4a90-978a-008d085a776b"
      },
      "execution_count": null,
      "outputs": [
        {
          "output_type": "stream",
          "name": "stdout",
          "text": [
            "5\n",
            "Parvez Kamaly\n"
          ]
        }
      ]
    },
    {
      "cell_type": "code",
      "source": [
        "print(x,name)"
      ],
      "metadata": {
        "colab": {
          "base_uri": "https://localhost:8080/"
        },
        "id": "P99qfDwG-2JZ",
        "outputId": "49432f51-c50a-47cd-9805-fdbe0511665d"
      },
      "execution_count": null,
      "outputs": [
        {
          "output_type": "stream",
          "name": "stdout",
          "text": [
            "5 Parvez Kamaly\n"
          ]
        }
      ]
    },
    {
      "cell_type": "code",
      "source": [
        "a=b=c=100\n",
        "print(a,b,c)"
      ],
      "metadata": {
        "colab": {
          "base_uri": "https://localhost:8080/"
        },
        "id": "iK6_Y00X-4RA",
        "outputId": "76a28543-d35a-42b1-d508-7a4b2b4189b2"
      },
      "execution_count": null,
      "outputs": [
        {
          "output_type": "stream",
          "name": "stdout",
          "text": [
            "100 100 100\n"
          ]
        }
      ]
    },
    {
      "cell_type": "code",
      "source": [
        "a=10\n",
        "b=20\n",
        "c=30\n",
        "print(a,b,c)\n"
      ],
      "metadata": {
        "colab": {
          "base_uri": "https://localhost:8080/"
        },
        "id": "GZ8_MXHl_FnI",
        "outputId": "03376598-ae8b-44ac-d7bb-ede02249a0d2"
      },
      "execution_count": null,
      "outputs": [
        {
          "output_type": "stream",
          "name": "stdout",
          "text": [
            "10 20 30\n"
          ]
        }
      ]
    },
    {
      "cell_type": "code",
      "source": [
        "a,b,c=100,5.3,'Python'\n",
        "print(a,b,c)"
      ],
      "metadata": {
        "colab": {
          "base_uri": "https://localhost:8080/"
        },
        "id": "IJ5xLwCE_N0A",
        "outputId": "8a5b2a03-3a72-4991-b326-f415c94cfc53"
      },
      "execution_count": null,
      "outputs": [
        {
          "output_type": "stream",
          "name": "stdout",
          "text": [
            "100 5.3 Python\n"
          ]
        }
      ]
    },
    {
      "cell_type": "code",
      "source": [
        "print(type(a))\n",
        "print(type(b))\n",
        "print(type(c))"
      ],
      "metadata": {
        "colab": {
          "base_uri": "https://localhost:8080/"
        },
        "id": "KwdCuWdR_cEX",
        "outputId": "da39df2e-5257-4d20-a2a2-16b52a9ad0fa"
      },
      "execution_count": null,
      "outputs": [
        {
          "output_type": "stream",
          "name": "stdout",
          "text": [
            "<class 'int'>\n",
            "<class 'float'>\n",
            "<class 'str'>\n"
          ]
        }
      ]
    },
    {
      "cell_type": "code",
      "source": [
        "z='10'\n",
        "l=int(z)\n",
        "print(l)"
      ],
      "metadata": {
        "colab": {
          "base_uri": "https://localhost:8080/"
        },
        "id": "F8XyTwzDAsQI",
        "outputId": "8a4f32aa-b86d-4523-80fc-fbd6a215e17b"
      },
      "execution_count": null,
      "outputs": [
        {
          "output_type": "stream",
          "name": "stdout",
          "text": [
            "10\n"
          ]
        }
      ]
    },
    {
      "cell_type": "code",
      "source": [
        "age=25\n",
        "string=str(age)\n",
        "print(string)"
      ],
      "metadata": {
        "colab": {
          "base_uri": "https://localhost:8080/"
        },
        "id": "gS-0CN1mBVJh",
        "outputId": "9bfe5163-4023-4757-a8eb-e8145bf7da4c"
      },
      "execution_count": null,
      "outputs": [
        {
          "output_type": "stream",
          "name": "stdout",
          "text": [
            "25\n"
          ]
        }
      ]
    },
    {
      "cell_type": "code",
      "source": [
        "a,b=10,5\n",
        "a,b=b,a\n",
        "print(a,b)"
      ],
      "metadata": {
        "colab": {
          "base_uri": "https://localhost:8080/"
        },
        "id": "VD7PQQL6Bc6o",
        "outputId": "26e8fccc-b094-44d0-c9df-f6dce3d83219"
      },
      "execution_count": null,
      "outputs": [
        {
          "output_type": "stream",
          "name": "stdout",
          "text": [
            "5 10\n"
          ]
        }
      ]
    },
    {
      "cell_type": "code",
      "source": [
        "word='Python'\n",
        "length=len(word)\n",
        "print(length)"
      ],
      "metadata": {
        "colab": {
          "base_uri": "https://localhost:8080/"
        },
        "id": "0BKgtfgEBoNJ",
        "outputId": "c8aa771f-8d0e-45ae-b898-ea4f4d7f8c72"
      },
      "execution_count": null,
      "outputs": [
        {
          "output_type": "stream",
          "name": "stdout",
          "text": [
            "6\n"
          ]
        }
      ]
    },
    {
      "cell_type": "code",
      "source": [
        "print('Length of the word:',length)"
      ],
      "metadata": {
        "colab": {
          "base_uri": "https://localhost:8080/"
        },
        "id": "y6VexAYABxKw",
        "outputId": "92a2149c-8621-4d33-9084-2d0a8a799792"
      },
      "execution_count": null,
      "outputs": [
        {
          "output_type": "stream",
          "name": "stdout",
          "text": [
            "Length of the word: 6\n"
          ]
        }
      ]
    },
    {
      "cell_type": "code",
      "source": [],
      "metadata": {
        "id": "ttezvjHKB5co"
      },
      "execution_count": null,
      "outputs": []
    }
  ]
}