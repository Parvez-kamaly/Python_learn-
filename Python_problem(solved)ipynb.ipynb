{
  "nbformat": 4,
  "nbformat_minor": 0,
  "metadata": {
    "colab": {
      "provenance": [],
      "authorship_tag": "ABX9TyPFC/QstJovGQhsf0kHCIMu",
      "include_colab_link": true
    },
    "kernelspec": {
      "name": "python3",
      "display_name": "Python 3"
    },
    "language_info": {
      "name": "python"
    }
  },
  "cells": [
    {
      "cell_type": "markdown",
      "metadata": {
        "id": "view-in-github",
        "colab_type": "text"
      },
      "source": [
        "<a href=\"https://colab.research.google.com/github/Parvez-kamaly/Python_learn-/blob/main/Python_problem(solved)ipynb.ipynb\" target=\"_parent\"><img src=\"https://colab.research.google.com/assets/colab-badge.svg\" alt=\"Open In Colab\"/></a>"
      ]
    },
    {
      "cell_type": "markdown",
      "source": [
        "**1. Variables & Data Types**"
      ],
      "metadata": {
        "id": "HAeD9P0Og9lu"
      }
    },
    {
      "cell_type": "markdown",
      "source": [
        "**Swap two numbers without using a temporary variable.**"
      ],
      "metadata": {
        "id": "hmjnb98ZhCtG"
      }
    },
    {
      "cell_type": "code",
      "execution_count": null,
      "metadata": {
        "colab": {
          "base_uri": "https://localhost:8080/"
        },
        "id": "DwM7BGiag2K5",
        "outputId": "171a6f2b-bade-4433-8d54-d9e25139427c"
      },
      "outputs": [
        {
          "output_type": "stream",
          "name": "stdout",
          "text": [
            "5\n",
            "10\n"
          ]
        }
      ],
      "source": [
        "a,b=10,5\n",
        "a,b=b,a    #swapp with temmporary variable\n",
        "print(a)\n",
        "print(b)"
      ]
    },
    {
      "cell_type": "markdown",
      "source": [
        "**Check the data type of a variable and convert it to another type.**"
      ],
      "metadata": {
        "id": "771RTaISjaA9"
      }
    },
    {
      "cell_type": "code",
      "source": [
        "s='123'\n",
        "print('data type of s is ',s,type(s))"
      ],
      "metadata": {
        "colab": {
          "base_uri": "https://localhost:8080/"
        },
        "id": "b-E_bnpAhNjn",
        "outputId": "2bd4105a-a8ae-49b4-e9b3-98151e9cea7c"
      },
      "execution_count": null,
      "outputs": [
        {
          "output_type": "stream",
          "name": "stdout",
          "text": [
            "data type of s is  123 <class 'str'>\n"
          ]
        }
      ]
    },
    {
      "cell_type": "code",
      "source": [
        "new_datatype=int(s)\n",
        "print('Data type of s is now',new_datatype,type(new_datatype))"
      ],
      "metadata": {
        "colab": {
          "base_uri": "https://localhost:8080/"
        },
        "id": "MFeUDMwgiTXV",
        "outputId": "67bcaa7d-98f6-46b1-8ca0-58a56033fbd6"
      },
      "execution_count": null,
      "outputs": [
        {
          "output_type": "stream",
          "name": "stdout",
          "text": [
            "Data type of s is now 123 <class 'int'>\n"
          ]
        }
      ]
    },
    {
      "cell_type": "markdown",
      "source": [
        "**Concatenate two strings and print the result.**"
      ],
      "metadata": {
        "id": "uo3yzkuJjqOV"
      }
    },
    {
      "cell_type": "code",
      "source": [
        "str1='Hello'\n",
        "str2='World'\n",
        "\n",
        "result=str1+' '+str2\n",
        "print(result)"
      ],
      "metadata": {
        "colab": {
          "base_uri": "https://localhost:8080/"
        },
        "id": "CeQbAHUpi3L9",
        "outputId": "aafbe82b-4737-4672-f708-3a99cb30c3e3"
      },
      "execution_count": null,
      "outputs": [
        {
          "output_type": "stream",
          "name": "stdout",
          "text": [
            "Hello World\n"
          ]
        }
      ]
    },
    {
      "cell_type": "code",
      "source": [
        "name=input('Enter the name')\n",
        "surname=input('Enter the surname')\n",
        "\n",
        "result=name+' '+surname\n",
        "print(result)"
      ],
      "metadata": {
        "colab": {
          "base_uri": "https://localhost:8080/"
        },
        "id": "E0OrDSa1j8uV",
        "outputId": "b69cb825-60e7-40b3-d837-19c2706ff595"
      },
      "execution_count": null,
      "outputs": [
        {
          "output_type": "stream",
          "name": "stdout",
          "text": [
            "Enter the nameparvez\n",
            "Enter the surnamekamaly\n",
            "parvez kamaly\n"
          ]
        }
      ]
    },
    {
      "cell_type": "markdown",
      "source": [
        "**Count how many times a specific character appears in a string.**"
      ],
      "metadata": {
        "id": "9eG0cAdXkoS0"
      }
    },
    {
      "cell_type": "code",
      "source": [
        "text='hello world'\n",
        "char='l'\n",
        "count=text.count(char)\n",
        "print('it has ',count, 'times',char)"
      ],
      "metadata": {
        "colab": {
          "base_uri": "https://localhost:8080/"
        },
        "id": "qIJtfF3KkH90",
        "outputId": "e51e82e9-4770-482f-ffbc-f5a1aaac7376"
      },
      "execution_count": null,
      "outputs": [
        {
          "output_type": "stream",
          "name": "stdout",
          "text": [
            "it has  3 times l\n"
          ]
        }
      ]
    },
    {
      "cell_type": "code",
      "source": [
        "text=input('enter the word: ')\n",
        "char=input('Enter the character: ')\n",
        "count=text.count(char)\n",
        "print(count)"
      ],
      "metadata": {
        "colab": {
          "base_uri": "https://localhost:8080/"
        },
        "id": "abjGXwl9k2-U",
        "outputId": "b8951c42-c240-4f3d-bc4e-733b4f18ccfb"
      },
      "execution_count": null,
      "outputs": [
        {
          "output_type": "stream",
          "name": "stdout",
          "text": [
            "enter the word: banana\n",
            "Enter the character: a\n",
            "3\n"
          ]
        }
      ]
    },
    {
      "cell_type": "code",
      "source": [
        "###extra\n",
        "name=input('Enter the name: ')\n",
        "char=input('Enter the char: ')\n",
        "count=name.count(char)\n",
        "print(count)"
      ],
      "metadata": {
        "colab": {
          "base_uri": "https://localhost:8080/"
        },
        "id": "B-ZsQ7ewlMcE",
        "outputId": "7d4b4197-f4d6-482f-b4ad-be309c0f6e00"
      },
      "execution_count": null,
      "outputs": [
        {
          "output_type": "stream",
          "name": "stdout",
          "text": [
            "Enter the name: jenney\n",
            "Enter the char: e\n",
            "2\n"
          ]
        }
      ]
    },
    {
      "cell_type": "markdown",
      "source": [
        "**2. Lists, Tuples, Sets**"
      ],
      "metadata": {
        "id": "ORKkKGonmjfL"
      }
    },
    {
      "cell_type": "markdown",
      "source": [
        "**Find the largest and smallest number in a list.**"
      ],
      "metadata": {
        "id": "-uUGBmqHmnqL"
      }
    },
    {
      "cell_type": "code",
      "source": [
        "numbers=[10,30,40,50,90,32]\n",
        "largest=max(numbers)\n",
        "smallest=min(numbers)\n",
        "\n",
        "print('The largest value of the list is :',largest)\n",
        "print('The smallest value of the list is :',smallest)"
      ],
      "metadata": {
        "colab": {
          "base_uri": "https://localhost:8080/"
        },
        "id": "MmM-X4MzmAok",
        "outputId": "d55aba36-61d7-44bc-ce34-4cb9f1842960"
      },
      "execution_count": null,
      "outputs": [
        {
          "output_type": "stream",
          "name": "stdout",
          "text": [
            "The largest value of the list is : 90\n",
            "The smallest value of the list is : 10\n"
          ]
        }
      ]
    },
    {
      "cell_type": "code",
      "source": [
        "numbers=list(map(int,input('Enter the numbers separted by space:').split()))\n",
        "largest=max(numbers)\n",
        "smallest=min(numbers)\n",
        "\n",
        "print('The largest number of list is: ',largest)\n",
        "print('The smallest number of list is : ',smallest)"
      ],
      "metadata": {
        "colab": {
          "base_uri": "https://localhost:8080/"
        },
        "id": "i48WHxjEnbNz",
        "outputId": "bdc12ac0-81cd-46e5-db82-eb90ddcb8771"
      },
      "execution_count": null,
      "outputs": [
        {
          "output_type": "stream",
          "name": "stdout",
          "text": [
            "Enter the numbers separted by space:10 89 76 54 45 32 76 11 6 2 88 98 \n",
            "The largest number of list is:  98\n",
            "The smallest number of list is :  2\n"
          ]
        }
      ]
    },
    {
      "cell_type": "markdown",
      "source": [
        "**Remove duplicates from a list**"
      ],
      "metadata": {
        "id": "dJ51NKtfpKVa"
      }
    },
    {
      "cell_type": "code",
      "source": [
        "numbers=[10,20,30,40,50,30,20,30,40,320,20,20,340,40,300,40]\n",
        "unique_num=set(numbers)\n",
        "print(unique_num)"
      ],
      "metadata": {
        "colab": {
          "base_uri": "https://localhost:8080/"
        },
        "id": "Z4qDQmLxnowD",
        "outputId": "1b3a8185-c675-4a93-e6cf-672fe5ae00eb"
      },
      "execution_count": null,
      "outputs": [
        {
          "output_type": "stream",
          "name": "stdout",
          "text": [
            "{320, 40, 10, 300, 50, 20, 340, 30}\n"
          ]
        }
      ]
    },
    {
      "cell_type": "code",
      "source": [
        "numbers=[1,3,4,3,3,3,5]\n",
        "list=set(numbers)\n",
        "print(list)"
      ],
      "metadata": {
        "colab": {
          "base_uri": "https://localhost:8080/"
        },
        "id": "r_cSroUkpoLJ",
        "outputId": "f8a9db38-3731-4586-a8b9-611502e1ce6f"
      },
      "execution_count": null,
      "outputs": [
        {
          "output_type": "stream",
          "name": "stdout",
          "text": [
            "{1, 3, 4, 5}\n"
          ]
        }
      ]
    },
    {
      "cell_type": "code",
      "source": [
        "numbers=[1, 2, 3, 2, 4, 1, 5, 3]\n",
        "unique_num=[]\n",
        "\n",
        "for num in numbers:\n",
        "  if num not in unique_num:\n",
        "    unique_num.append(num)\n",
        "    print(unique_num)"
      ],
      "metadata": {
        "colab": {
          "base_uri": "https://localhost:8080/"
        },
        "id": "mNZusvtepxZR",
        "outputId": "c28465ce-748a-41fc-f2ee-caa0b0bebcfb"
      },
      "execution_count": null,
      "outputs": [
        {
          "output_type": "stream",
          "name": "stdout",
          "text": [
            "[1]\n",
            "[1, 2]\n",
            "[1, 2, 3]\n",
            "[1, 2, 3, 4]\n",
            "[1, 2, 3, 4, 5]\n"
          ]
        }
      ]
    },
    {
      "cell_type": "code",
      "source": [
        "num=[1,2,2,3,5,4,3,3,2,4,2,2,6,5,7,6,4,8,4]\n",
        "print(len(num))"
      ],
      "metadata": {
        "id": "9RJHWmlVq8tK",
        "colab": {
          "base_uri": "https://localhost:8080/"
        },
        "outputId": "7c480e5a-e762-45de-9302-529185b262e8"
      },
      "execution_count": null,
      "outputs": [
        {
          "output_type": "stream",
          "name": "stdout",
          "text": [
            "19\n"
          ]
        }
      ]
    },
    {
      "cell_type": "code",
      "source": [
        "unique_num=[]  # empty unique num where i keep the orginal value not  duplicate value\n",
        "for n in num:\n",
        "  if n not in unique_num:\n",
        "    unique_num.append(n)\n",
        "    print(unique_num)"
      ],
      "metadata": {
        "colab": {
          "base_uri": "https://localhost:8080/"
        },
        "id": "-lYoKQ3PQjuq",
        "outputId": "3bd2e82d-7f7c-4ddd-e908-b7d88efaa793"
      },
      "execution_count": null,
      "outputs": [
        {
          "output_type": "stream",
          "name": "stdout",
          "text": [
            "[1]\n",
            "[1, 2]\n",
            "[1, 2, 3]\n",
            "[1, 2, 3, 5]\n",
            "[1, 2, 3, 5, 4]\n",
            "[1, 2, 3, 5, 4, 6]\n",
            "[1, 2, 3, 5, 4, 6, 7]\n",
            "[1, 2, 3, 5, 4, 6, 7, 8]\n"
          ]
        }
      ]
    },
    {
      "cell_type": "code",
      "source": [
        "print(len(unique_num))\n"
      ],
      "metadata": {
        "colab": {
          "base_uri": "https://localhost:8080/"
        },
        "id": "wC3zganBQ9uS",
        "outputId": "4e4545c2-6fef-4f7b-983d-c82279b1cc1e"
      },
      "execution_count": null,
      "outputs": [
        {
          "output_type": "stream",
          "name": "stdout",
          "text": [
            "8\n"
          ]
        }
      ]
    },
    {
      "cell_type": "markdown",
      "source": [
        "**Reverse a list without using the reverse() function.**"
      ],
      "metadata": {
        "id": "Pqh51mnXRrS4"
      }
    },
    {
      "cell_type": "code",
      "source": [
        "#using reverse () function\n",
        "num=[1,2,3,4,5,6,7]\n",
        "new_num=list(reversed(num))\n",
        "print(new_num)"
      ],
      "metadata": {
        "colab": {
          "base_uri": "https://localhost:8080/"
        },
        "id": "IrcG2-2mRCzI",
        "outputId": "d074eba0-3150-4122-d62f-de6bf96c2b04"
      },
      "execution_count": null,
      "outputs": [
        {
          "output_type": "stream",
          "name": "stdout",
          "text": [
            "[7, 6, 5, 4, 3, 2, 1]\n"
          ]
        }
      ]
    },
    {
      "cell_type": "code",
      "source": [
        "## without using reverse fucntion\n",
        "num=[1,2,3,4,5,6,7]\n",
        "reverse_list=num[::-1]         #[start,stop,step]   [-1 means move backwards one step at a time]\n",
        "print(reverse_list)"
      ],
      "metadata": {
        "colab": {
          "base_uri": "https://localhost:8080/"
        },
        "id": "qelimkOfSJGB",
        "outputId": "ea72e96c-d3ef-437a-f07c-a33a69627e50"
      },
      "execution_count": null,
      "outputs": [
        {
          "output_type": "stream",
          "name": "stdout",
          "text": [
            "[7, 6, 5, 4, 3, 2, 1]\n"
          ]
        }
      ]
    },
    {
      "cell_type": "markdown",
      "source": [
        "**Find common elements between two lists.**"
      ],
      "metadata": {
        "id": "YtmqVSfUUBtQ"
      }
    },
    {
      "cell_type": "code",
      "source": [
        "num1=[1,2,3,4,5,6,7,8,9,10]\n",
        "num2=[2,4,6,8,10,12]\n",
        "common=list(set(num1) & set(num2))   # & operator find the intersection\n",
        "print(common)\n"
      ],
      "metadata": {
        "colab": {
          "base_uri": "https://localhost:8080/"
        },
        "id": "cPx6RxQaTINL",
        "outputId": "a271027b-4ba0-4ddb-8de4-c94b9ff71330"
      },
      "execution_count": null,
      "outputs": [
        {
          "output_type": "stream",
          "name": "stdout",
          "text": [
            "[2, 4, 6, 8, 10]\n"
          ]
        }
      ]
    },
    {
      "cell_type": "code",
      "source": [
        "common=set(num1).intersection(set(num2))\n",
        "print(common)"
      ],
      "metadata": {
        "colab": {
          "base_uri": "https://localhost:8080/"
        },
        "id": "JSQ3HiVMU92Z",
        "outputId": "bb2e7642-e617-474f-af11-d8e05ea92da3"
      },
      "execution_count": null,
      "outputs": [
        {
          "output_type": "stream",
          "name": "stdout",
          "text": [
            "{2, 4, 6, 8, 10}\n"
          ]
        }
      ]
    },
    {
      "cell_type": "code",
      "source": [
        "list1 = [1, 2, 3, 4, 5]\n",
        "list2 = [4, 5, 6, 7, 8]\n",
        "list3 = [0, 5, 9, 4]\n",
        "\n",
        "common=set(list1).intersection(list2,list3)\n",
        "print('Common of list:',common)"
      ],
      "metadata": {
        "colab": {
          "base_uri": "https://localhost:8080/"
        },
        "id": "Dn30hEkNVaRp",
        "outputId": "afc0c60b-828d-46ab-cc9e-688667546b9f"
      },
      "execution_count": null,
      "outputs": [
        {
          "output_type": "stream",
          "name": "stdout",
          "text": [
            "Common of list: {4, 5}\n"
          ]
        }
      ]
    },
    {
      "cell_type": "code",
      "source": [
        "#SOME EXTRA\n",
        "#FIND UNION AND DIFFERENCE\n",
        "A = {1, 2, 3, 4}\n",
        "B = {3, 4, 5, 6}\n",
        "print('union',A.union(B))"
      ],
      "metadata": {
        "colab": {
          "base_uri": "https://localhost:8080/"
        },
        "id": "bLqRp6gOVpTz",
        "outputId": "58d415f9-5d76-4153-f4a0-ddb3ae37593c"
      },
      "execution_count": null,
      "outputs": [
        {
          "output_type": "stream",
          "name": "stdout",
          "text": [
            "union {1, 2, 3, 4, 5, 6}\n"
          ]
        }
      ]
    },
    {
      "cell_type": "code",
      "source": [
        "print('A-B Difference: ',A.difference(B))\n",
        "print('B-A Difference: ',B.difference(A))"
      ],
      "metadata": {
        "colab": {
          "base_uri": "https://localhost:8080/"
        },
        "id": "6zI0jy7qWA94",
        "outputId": "f41da53d-6736-477e-d939-c35656ce6563"
      },
      "execution_count": null,
      "outputs": [
        {
          "output_type": "stream",
          "name": "stdout",
          "text": [
            "A-B Difference:  {1, 2}\n",
            "B-A Difference:  {5, 6}\n"
          ]
        }
      ]
    },
    {
      "cell_type": "markdown",
      "source": [
        "**Count the frequency of elements in a list.**"
      ],
      "metadata": {
        "id": "vwIXxM1gWiwY"
      }
    },
    {
      "cell_type": "code",
      "source": [
        "from collections import Counter\n",
        "numbers=[1, 2, 2, 3, 4, 4, 4, 5]\n",
        "frequency=Counter(numbers)\n",
        "print('Frequecy of counter: ',frequency)"
      ],
      "metadata": {
        "colab": {
          "base_uri": "https://localhost:8080/"
        },
        "id": "y23o9nSbWQGi",
        "outputId": "62940cd1-7702-411b-9088-5c6018708be0"
      },
      "execution_count": null,
      "outputs": [
        {
          "output_type": "stream",
          "name": "stdout",
          "text": [
            "Frequecy of counter:  Counter({4: 3, 2: 2, 1: 1, 3: 1, 5: 1})\n"
          ]
        }
      ]
    },
    {
      "cell_type": "markdown",
      "source": [
        "**Dictionaries**"
      ],
      "metadata": {
        "id": "xqLGUoA1cdz3"
      }
    },
    {
      "cell_type": "code",
      "source": [
        "#Method:1\n",
        "dict1={'a':1,'b':2}\n",
        "dict2={'c':3,'d':4}\n",
        "\n",
        "dict1.update(dict2)\n",
        "print('Merged dictonary ',dict1)"
      ],
      "metadata": {
        "id": "Qf40Clt3XDyp",
        "colab": {
          "base_uri": "https://localhost:8080/"
        },
        "outputId": "fc84ba66-b8ec-4494-b411-a42857039bc6"
      },
      "execution_count": null,
      "outputs": [
        {
          "output_type": "stream",
          "name": "stdout",
          "text": [
            "Merged dictonary  {'a': 1, 'b': 2, 'c': 3, 'd': 4}\n"
          ]
        }
      ]
    },
    {
      "cell_type": "code",
      "source": [
        "#Method:2\n",
        "dict1={'a':1,'b':2}\n",
        "dict2={'c':3,'d':4}\n",
        "\n",
        "merged=dict1 | dict2\n",
        "print('merged dictionary ',merged)"
      ],
      "metadata": {
        "colab": {
          "base_uri": "https://localhost:8080/"
        },
        "id": "s2ZgeEb9dLi5",
        "outputId": "139b7575-7d62-46a0-d3dd-e1d285fdd194"
      },
      "execution_count": null,
      "outputs": [
        {
          "output_type": "stream",
          "name": "stdout",
          "text": [
            "merged dictionary  {'a': 1, 'b': 2, 'c': 3, 'd': 4}\n"
          ]
        }
      ]
    },
    {
      "cell_type": "markdown",
      "source": [
        "**Count the frequency of words in a sentence using a dictionary.**"
      ],
      "metadata": {
        "id": "TvE6hhLgeE8H"
      }
    },
    {
      "cell_type": "code",
      "source": [
        "from collections import Counter\n",
        "sentence='I love python because i love coding in python'\n",
        "word_frequency=Counter(sentence.split())\n",
        "print(word_frequency)"
      ],
      "metadata": {
        "colab": {
          "base_uri": "https://localhost:8080/"
        },
        "id": "AWHPEVTUdiap",
        "outputId": "70ce2f43-c57c-4363-f145-29f03dff0bdc"
      },
      "execution_count": null,
      "outputs": [
        {
          "output_type": "stream",
          "name": "stdout",
          "text": [
            "Counter({'love': 2, 'python': 2, 'I': 1, 'because': 1, 'i': 1, 'coding': 1, 'in': 1})\n"
          ]
        }
      ]
    },
    {
      "cell_type": "code",
      "source": [
        "from collections import Counter\n",
        "name='Sylhet Engineering college'\n",
        "res=Counter(name.split())\n",
        "print(res)"
      ],
      "metadata": {
        "colab": {
          "base_uri": "https://localhost:8080/"
        },
        "id": "8W8BODXOebI6",
        "outputId": "9576a02b-403f-4dc4-cb60-48428c13a5b1"
      },
      "execution_count": null,
      "outputs": [
        {
          "output_type": "stream",
          "name": "stdout",
          "text": [
            "Counter({'Sylhet': 1, 'Engineering': 1, 'college': 1})\n"
          ]
        }
      ]
    },
    {
      "cell_type": "markdown",
      "source": [
        "**Extract all keys or values from a dictionary**"
      ],
      "metadata": {
        "id": "bTdirH8PfbOw"
      }
    },
    {
      "cell_type": "code",
      "source": [
        "student = {\n",
        "    \"Name\": \"Parvez\",\n",
        "    \"Roll\": 20,\n",
        "    \"GPA\": 3.5,\n",
        "    \"Merit\": \"Third position\"\n",
        "}\n",
        "\n",
        "student.keys()"
      ],
      "metadata": {
        "colab": {
          "base_uri": "https://localhost:8080/"
        },
        "id": "8hlNJz9Be9Mq",
        "outputId": "5bf7856f-3433-46d4-b064-7a2e9ab9828f"
      },
      "execution_count": null,
      "outputs": [
        {
          "output_type": "execute_result",
          "data": {
            "text/plain": [
              "dict_keys(['Name', 'Roll', 'GPA', 'Merit'])"
            ]
          },
          "metadata": {},
          "execution_count": 6
        }
      ]
    },
    {
      "cell_type": "markdown",
      "source": [
        "**Check if a string is a palindrome**"
      ],
      "metadata": {
        "id": "WOOhXU_HrtKQ"
      }
    },
    {
      "cell_type": "code",
      "source": [
        "def is_palindrome(s):\n",
        "  s=s.lower()\n",
        "\n",
        "  return s==s[::-1]   # compare in reverse way\n",
        "\n",
        "print(is_palindrome('madam'))\n",
        "print(is_palindrome('Python'))"
      ],
      "metadata": {
        "id": "1fVjAN2efkxC",
        "colab": {
          "base_uri": "https://localhost:8080/"
        },
        "outputId": "385d8b1e-b25e-4a75-a986-f5477fbdfda8"
      },
      "execution_count": null,
      "outputs": [
        {
          "output_type": "stream",
          "name": "stdout",
          "text": [
            "True\n",
            "False\n"
          ]
        }
      ]
    },
    {
      "cell_type": "markdown",
      "source": [
        "**Reverse the words in a sentence.**"
      ],
      "metadata": {
        "id": "QCu_65gPsyo3"
      }
    },
    {
      "cell_type": "code",
      "source": [
        "sentence='I love python programming'\n",
        "rev=reversed(sentence.split())\n",
        "print('  '.join(rev))"
      ],
      "metadata": {
        "colab": {
          "base_uri": "https://localhost:8080/"
        },
        "id": "aawEWbDjsaQ5",
        "outputId": "fd05d780-914e-4a3e-cd34-a0302e4924b9"
      },
      "execution_count": null,
      "outputs": [
        {
          "output_type": "stream",
          "name": "stdout",
          "text": [
            "programming  python  love  I\n"
          ]
        }
      ]
    },
    {
      "cell_type": "code",
      "source": [
        "dept_name='Electrical and Electronics Engineering department'\n",
        "rev=reversed(dept_name.split())\n",
        "print(' '.join(rev))"
      ],
      "metadata": {
        "colab": {
          "base_uri": "https://localhost:8080/"
        },
        "id": "JvM9i8wptD_x",
        "outputId": "ff2716b4-6356-481f-e397-6c0fc006203d"
      },
      "execution_count": null,
      "outputs": [
        {
          "output_type": "stream",
          "name": "stdout",
          "text": [
            "department Engineering Electronics and Electrical\n"
          ]
        }
      ]
    },
    {
      "cell_type": "markdown",
      "source": [
        "**Print all prime numbers up to n.**"
      ],
      "metadata": {
        "id": "9lKpW2oWvlxe"
      }
    },
    {
      "cell_type": "code",
      "source": [
        "def prime_no(n):\n",
        "  primes=[]\n",
        "\n",
        "  for num in range(2,n+1):\n",
        "    if all(num % i !=0 for i in range(2,num)):\n",
        "      primes.append(num)\n",
        "  return primes\n",
        "\n",
        "n=50\n",
        "print(prime_no(n))"
      ],
      "metadata": {
        "colab": {
          "base_uri": "https://localhost:8080/"
        },
        "id": "IO5LazejvaTf",
        "outputId": "bd744bbd-1e2f-401c-ea0e-201c25921dd7"
      },
      "execution_count": null,
      "outputs": [
        {
          "output_type": "stream",
          "name": "stdout",
          "text": [
            "[2, 3, 5, 7, 11, 13, 17, 19, 23, 29, 31, 37, 41, 43, 47]\n"
          ]
        }
      ]
    },
    {
      "cell_type": "code",
      "source": [
        "n=100\n",
        "print(prime_no(n))"
      ],
      "metadata": {
        "colab": {
          "base_uri": "https://localhost:8080/"
        },
        "id": "5Ueys7CMyqXe",
        "outputId": "6e1a08db-2385-40f5-cd8b-cb5d15541928"
      },
      "execution_count": null,
      "outputs": [
        {
          "output_type": "stream",
          "name": "stdout",
          "text": [
            "[2, 3, 5, 7, 11, 13, 17, 19, 23, 29, 31, 37, 41, 43, 47, 53, 59, 61, 67, 71, 73, 79, 83, 89, 97]\n"
          ]
        }
      ]
    },
    {
      "cell_type": "code",
      "source": [
        "def prime_no(n):\n",
        "  prime=[]\n",
        "\n",
        "  for num in range(2,n+1):\n",
        "    if all(num % i !=0 for i in range(2,num)):\n",
        "      prime.append(num)\n",
        "  return prime\n",
        "\n",
        "n=30\n",
        "print(prime_no(n))\n"
      ],
      "metadata": {
        "colab": {
          "base_uri": "https://localhost:8080/"
        },
        "id": "oRrSB8VsyxNV",
        "outputId": "8f48a5b6-5407-44af-d6f0-7c99ce5d9d38"
      },
      "execution_count": null,
      "outputs": [
        {
          "output_type": "stream",
          "name": "stdout",
          "text": [
            "[2, 3, 5, 7, 11, 13, 17, 19, 23, 29]\n"
          ]
        }
      ]
    },
    {
      "cell_type": "markdown",
      "source": [
        "**Print a pattern (like a pyramid or triangle) using loops.**"
      ],
      "metadata": {
        "id": "A7DONEMN1RuV"
      }
    },
    {
      "cell_type": "code",
      "source": [
        "n=5\n",
        "\n",
        "for i in range(1,n+1):\n",
        "  print('*' * i)"
      ],
      "metadata": {
        "colab": {
          "base_uri": "https://localhost:8080/"
        },
        "id": "kVBbfS7j0Dv9",
        "outputId": "505298ec-636d-4645-c28d-82dfd8ac0668"
      },
      "execution_count": null,
      "outputs": [
        {
          "output_type": "stream",
          "name": "stdout",
          "text": [
            "*\n",
            "**\n",
            "***\n",
            "****\n",
            "*****\n"
          ]
        }
      ]
    },
    {
      "cell_type": "code",
      "source": [
        "n=5\n",
        "\n",
        "\n",
        "for i in range(n,0,-1):\n",
        "  print('*' * i)\n"
      ],
      "metadata": {
        "colab": {
          "base_uri": "https://localhost:8080/"
        },
        "id": "a0v8Iy9v1nQd",
        "outputId": "4d4a4541-b8cd-4cbd-d4b9-04d122b9e287"
      },
      "execution_count": null,
      "outputs": [
        {
          "output_type": "stream",
          "name": "stdout",
          "text": [
            "*****\n",
            "****\n",
            "***\n",
            "**\n",
            "*\n"
          ]
        }
      ]
    },
    {
      "cell_type": "code",
      "source": [],
      "metadata": {
        "id": "xQrWOPRo16bd"
      },
      "execution_count": null,
      "outputs": []
    }
  ]
}