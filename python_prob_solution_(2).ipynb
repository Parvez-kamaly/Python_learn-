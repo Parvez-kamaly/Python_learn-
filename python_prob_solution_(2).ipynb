{
  "nbformat": 4,
  "nbformat_minor": 0,
  "metadata": {
    "colab": {
      "provenance": [],
      "authorship_tag": "ABX9TyPWQPUj9m1n61oXsO6U15EY",
      "include_colab_link": true
    },
    "kernelspec": {
      "name": "python3",
      "display_name": "Python 3"
    },
    "language_info": {
      "name": "python"
    }
  },
  "cells": [
    {
      "cell_type": "markdown",
      "metadata": {
        "id": "view-in-github",
        "colab_type": "text"
      },
      "source": [
        "<a href=\"https://colab.research.google.com/github/Parvez-kamaly/Python_learn-/blob/main/python_prob_solution_(2).ipynb\" target=\"_parent\"><img src=\"https://colab.research.google.com/assets/colab-badge.svg\" alt=\"Open In Colab\"/></a>"
      ]
    },
    {
      "cell_type": "markdown",
      "source": [
        "**Find the maximum and minimum in a list.**"
      ],
      "metadata": {
        "id": "6jJ4cfisI3fB"
      }
    },
    {
      "cell_type": "code",
      "execution_count": null,
      "metadata": {
        "colab": {
          "base_uri": "https://localhost:8080/"
        },
        "id": "TPTxM8W3IbGO",
        "outputId": "a0ef3690-1dc7-4131-c4c9-8ddbd5cf7332"
      },
      "outputs": [
        {
          "output_type": "stream",
          "name": "stdout",
          "text": [
            "90\n"
          ]
        }
      ],
      "source": [
        "lst=[10,20,40,90,80]\n",
        "maximum=max(lst)\n",
        "print(maximum)"
      ]
    },
    {
      "cell_type": "code",
      "source": [
        "minimum=min(lst)\n",
        "print(minimum)"
      ],
      "metadata": {
        "colab": {
          "base_uri": "https://localhost:8080/"
        },
        "id": "-f1PttSnIylI",
        "outputId": "5d17273f-0407-4cd8-d8d7-6220f77b1272"
      },
      "execution_count": null,
      "outputs": [
        {
          "output_type": "stream",
          "name": "stdout",
          "text": [
            "10\n"
          ]
        }
      ]
    },
    {
      "cell_type": "code",
      "source": [
        "lst=[10, 20, 40, 90, 80]\n",
        "maximum=lst[0]\n",
        "minimum=lst[0]\n",
        "\n",
        "for num in lst:\n",
        "  if num > maximum:\n",
        "    maximum=num\n",
        "  if num < minimum:\n",
        "    minimum=num\n",
        "\n",
        "print('Maximum',maximum)\n",
        "print('Minimum',minimum)"
      ],
      "metadata": {
        "colab": {
          "base_uri": "https://localhost:8080/"
        },
        "id": "hqlPKh14JCha",
        "outputId": "934e370d-4399-4885-910a-d6c40b67ba23"
      },
      "execution_count": null,
      "outputs": [
        {
          "output_type": "stream",
          "name": "stdout",
          "text": [
            "Maximum 90\n",
            "Minimum 10\n"
          ]
        }
      ]
    },
    {
      "cell_type": "markdown",
      "source": [
        "**Remove duplicates from a list.**"
      ],
      "metadata": {
        "id": "5CoW93GpKeKB"
      }
    },
    {
      "cell_type": "code",
      "source": [
        "lst=[10,30,40,10,20,30,20,20,50,40]\n",
        "result=list(set(lst))\n",
        "print(result)"
      ],
      "metadata": {
        "colab": {
          "base_uri": "https://localhost:8080/"
        },
        "id": "XTZmn9qSJy8x",
        "outputId": "9fdfa674-a5a5-4d84-b25e-c8e15aa1202b"
      },
      "execution_count": null,
      "outputs": [
        {
          "output_type": "stream",
          "name": "stdout",
          "text": [
            "[40, 10, 50, 20, 30]\n"
          ]
        }
      ]
    },
    {
      "cell_type": "markdown",
      "source": [
        "**Find the second largest number in a list.**"
      ],
      "metadata": {
        "id": "fhKtpYmQK55I"
      }
    },
    {
      "cell_type": "code",
      "source": [
        "lst=[10, 20, 40, 90, 80]\n",
        "lst.sort()\n",
        "print('Second largest number of the list: ',lst[-2])"
      ],
      "metadata": {
        "colab": {
          "base_uri": "https://localhost:8080/"
        },
        "id": "3uiGZqUCKxQR",
        "outputId": "81c62fcc-0727-41be-ff24-732d99dd6183"
      },
      "execution_count": null,
      "outputs": [
        {
          "output_type": "stream",
          "name": "stdout",
          "text": [
            "Second largest number of the list:  80\n"
          ]
        }
      ]
    },
    {
      "cell_type": "markdown",
      "source": [
        "**Reverse a list without using reverse().**"
      ],
      "metadata": {
        "id": "_A7NMrmzM60p"
      }
    },
    {
      "cell_type": "code",
      "source": [
        "lst=[10,20,30,40,50,90]\n",
        "reversed_list=lst[::-1]\n",
        "print(reversed_list)"
      ],
      "metadata": {
        "colab": {
          "base_uri": "https://localhost:8080/"
        },
        "id": "j5zp2uphLRAj",
        "outputId": "8f8303ea-3420-4cf7-c052-b732688d3e98"
      },
      "execution_count": null,
      "outputs": [
        {
          "output_type": "stream",
          "name": "stdout",
          "text": [
            "[90, 50, 40, 30, 20, 10]\n"
          ]
        }
      ]
    },
    {
      "cell_type": "code",
      "source": [
        "# use reverse funciton\n",
        "lst=[10,20,30,40,50,90]\n",
        "list(reversed(lst))"
      ],
      "metadata": {
        "colab": {
          "base_uri": "https://localhost:8080/"
        },
        "id": "vjmGTexaNWAB",
        "outputId": "9994e883-d38a-4b6f-d31d-2c17602fa6e3"
      },
      "execution_count": null,
      "outputs": [
        {
          "output_type": "execute_result",
          "data": {
            "text/plain": [
              "[90, 50, 40, 30, 20, 10]"
            ]
          },
          "metadata": {},
          "execution_count": 14
        }
      ]
    },
    {
      "cell_type": "markdown",
      "source": [
        "**Rotate a list by k positions.**"
      ],
      "metadata": {
        "id": "0mxgCbAjN9bR"
      }
    },
    {
      "cell_type": "code",
      "source": [
        "lst=[1,2,3,4,5]\n",
        "k=2\n",
        "k=k % len(lst)\n",
        "\n",
        "rotated=lst[-k:] +lst[:-k]\n",
        "print('Rotated list:',rotated)"
      ],
      "metadata": {
        "colab": {
          "base_uri": "https://localhost:8080/"
        },
        "id": "XUH1oFwYNjrh",
        "outputId": "2a73970e-8cda-4549-d1b2-5f07fefea8ba"
      },
      "execution_count": null,
      "outputs": [
        {
          "output_type": "stream",
          "name": "stdout",
          "text": [
            "Rotated list: [4, 5, 1, 2, 3]\n"
          ]
        }
      ]
    },
    {
      "cell_type": "markdown",
      "source": [
        "**Convert a list to a tuple and back.**"
      ],
      "metadata": {
        "id": "zZJuy9L8EFGx"
      }
    },
    {
      "cell_type": "code",
      "source": [
        "lst=[10,20,30,40,50]\n",
        "tup=tuple(lst)\n",
        "print(tup)"
      ],
      "metadata": {
        "id": "GcD-fx2JPI9R",
        "colab": {
          "base_uri": "https://localhost:8080/"
        },
        "outputId": "c4462f38-5309-4e12-ea94-0c4118348ca0"
      },
      "execution_count": null,
      "outputs": [
        {
          "output_type": "stream",
          "name": "stdout",
          "text": [
            "(10, 20, 30, 40, 50)\n"
          ]
        }
      ]
    },
    {
      "cell_type": "code",
      "source": [
        "list(tup)"
      ],
      "metadata": {
        "colab": {
          "base_uri": "https://localhost:8080/"
        },
        "id": "U-gRM2nBEgvM",
        "outputId": "65fb903a-5dae-40a7-ceb5-9a0a0e80e7cc"
      },
      "execution_count": null,
      "outputs": [
        {
          "output_type": "execute_result",
          "data": {
            "text/plain": [
              "[10, 20, 30, 40, 50]"
            ]
          },
          "metadata": {},
          "execution_count": 5
        }
      ]
    },
    {
      "cell_type": "markdown",
      "source": [
        "**Find unique elements from two lists using sets.**"
      ],
      "metadata": {
        "id": "-HJxSlSiFBAi"
      }
    },
    {
      "cell_type": "code",
      "source": [
        "lst1=[10,20,30,40,50]\n",
        "lst2=[10,30,90,80,60]\n",
        "set1=set(lst1)\n",
        "set2=set(lst2)\n",
        "unique_elements=set1 ^ set2\n",
        "print(unique_elements)"
      ],
      "metadata": {
        "colab": {
          "base_uri": "https://localhost:8080/"
        },
        "id": "HzPob8iEEoLB",
        "outputId": "b4695847-3249-4019-f27f-00c9ced0942c"
      },
      "execution_count": null,
      "outputs": [
        {
          "output_type": "stream",
          "name": "stdout",
          "text": [
            "{80, 50, 20, 90, 40, 60}\n"
          ]
        }
      ]
    },
    {
      "cell_type": "code",
      "source": [
        "# alternate method\n",
        "unique_elements=set1.union(set2)-set1.intersection(set2)\n",
        "print(unique_elements)"
      ],
      "metadata": {
        "colab": {
          "base_uri": "https://localhost:8080/"
        },
        "id": "oa2ZBM3YFXQb",
        "outputId": "3a925181-d1da-46d5-f635-4a9b61886701"
      },
      "execution_count": null,
      "outputs": [
        {
          "output_type": "stream",
          "name": "stdout",
          "text": [
            "{40, 80, 50, 20, 90, 60}\n"
          ]
        }
      ]
    },
    {
      "cell_type": "markdown",
      "source": [
        "**Check if two sets are disjoint.**"
      ],
      "metadata": {
        "id": "Ji6nn9igHZ-B"
      }
    },
    {
      "cell_type": "code",
      "source": [
        "set1 = {1, 2, 3, 4}\n",
        "set2 = {5, 6, 7}\n",
        "set3 = {3, 8, 9}\n",
        "\n",
        "print(set1.isdisjoint(set2))\n",
        "print(set1.isdisjoint(set3))"
      ],
      "metadata": {
        "colab": {
          "base_uri": "https://localhost:8080/"
        },
        "id": "6CAEkAViGopD",
        "outputId": "f46452f3-3987-45b9-c510-a07805c172e0"
      },
      "execution_count": null,
      "outputs": [
        {
          "output_type": "stream",
          "name": "stdout",
          "text": [
            "True\n",
            "False\n"
          ]
        }
      ]
    },
    {
      "cell_type": "markdown",
      "source": [
        "**Find common elements in three lists using sets.**"
      ],
      "metadata": {
        "id": "yDpihAI1IMtR"
      }
    },
    {
      "cell_type": "code",
      "source": [
        "list1 = [1, 2, 3, 4, 5]\n",
        "list2 = [3, 4, 5, 6, 7]\n",
        "list3 = [5, 6, 7, 8, 9]\n",
        "\n",
        "set1=set(list1)\n",
        "set2=set(list2)\n",
        "set3=set(list3)\n",
        "\n",
        "common_elements=set1 & set2 & set3\n",
        "print('Common elements of 3 set is: ',common_elements)"
      ],
      "metadata": {
        "colab": {
          "base_uri": "https://localhost:8080/"
        },
        "id": "xnoofhAIHqz6",
        "outputId": "d5cd40ab-52bd-4705-9528-31c907fb5c15"
      },
      "execution_count": null,
      "outputs": [
        {
          "output_type": "stream",
          "name": "stdout",
          "text": [
            "Common elements of 3 set is:  {5}\n"
          ]
        }
      ]
    },
    {
      "cell_type": "markdown",
      "source": [
        "**Count frequency of words in a sentence**\n",
        "\n",
        "\n",
        "\n"
      ],
      "metadata": {
        "id": "IghqWLFsLoXr"
      }
    },
    {
      "cell_type": "code",
      "source": [
        "from collections import Counter\n",
        "sentence='I LOVE MACHINE LEARNING AND DATA SCIENCE'\n",
        "text=sentence.lower().split()\n",
        "\n",
        "word_count=Counter(text)\n",
        "print(word_count)"
      ],
      "metadata": {
        "colab": {
          "base_uri": "https://localhost:8080/"
        },
        "id": "GBZpczo4ILCx",
        "outputId": "b795b6d7-f882-4200-8abf-5862ae96cbf7"
      },
      "execution_count": null,
      "outputs": [
        {
          "output_type": "stream",
          "name": "stdout",
          "text": [
            "Counter({'i': 1, 'love': 1, 'machine': 1, 'learning': 1, 'and': 1, 'data': 1, 'science': 1})\n"
          ]
        }
      ]
    },
    {
      "cell_type": "markdown",
      "source": [
        "**Merge two dictionaries.**"
      ],
      "metadata": {
        "id": "ZWjIhK41NE4K"
      }
    },
    {
      "cell_type": "code",
      "source": [
        "dict1={'a':1,'b':2}\n",
        "dict2={'c':3,'d':4}\n",
        "\n",
        "merged=dict1 | dict2\n",
        "print(merged)"
      ],
      "metadata": {
        "colab": {
          "base_uri": "https://localhost:8080/"
        },
        "id": "a5gICbrnMXBU",
        "outputId": "7b890d19-a25b-46b5-8cd2-fdc107296988"
      },
      "execution_count": null,
      "outputs": [
        {
          "output_type": "stream",
          "name": "stdout",
          "text": [
            "{'a': 1, 'b': 2, 'c': 3, 'd': 4}\n"
          ]
        }
      ]
    },
    {
      "cell_type": "code",
      "source": [
        "merged={**dict1, **dict2}  #alternate method\n",
        "print(merged)"
      ],
      "metadata": {
        "colab": {
          "base_uri": "https://localhost:8080/"
        },
        "id": "VfNnemHhN_SM",
        "outputId": "27706bc6-92be-4ef8-8249-ef07fd13d7f0"
      },
      "execution_count": null,
      "outputs": [
        {
          "output_type": "stream",
          "name": "stdout",
          "text": [
            "{'a': 1, 'b': 2, 'c': 3, 'd': 4}\n"
          ]
        }
      ]
    },
    {
      "cell_type": "markdown",
      "source": [
        "**Find the key with the maximum value in a dictionary.**"
      ],
      "metadata": {
        "id": "32UXQdlKPJC7"
      }
    },
    {
      "cell_type": "code",
      "source": [
        "data={'a':10,'b':20,'c':30,'d':40}\n",
        "\n",
        "max_key=max(data,key=data.get)\n",
        "print('key with the max value: ',max_key)\n",
        "print('Maximum value: ',data[max_key])"
      ],
      "metadata": {
        "colab": {
          "base_uri": "https://localhost:8080/"
        },
        "id": "N2mngrCzO5Fs",
        "outputId": "065cc63b-ba0b-4e4a-fbec-9bfad520f869"
      },
      "execution_count": null,
      "outputs": [
        {
          "output_type": "stream",
          "name": "stdout",
          "text": [
            "key with the max value:  d\n",
            "Maximum value:  40\n"
          ]
        }
      ]
    },
    {
      "cell_type": "markdown",
      "source": [
        "**Sort a dictionary by its values.**"
      ],
      "metadata": {
        "id": "OLFtyxVGP9by"
      }
    },
    {
      "cell_type": "code",
      "source": [
        "data = {'a': 30, 'b': 10, 'c': 50, 'd': 20}\n",
        "\n",
        "sorted_list=dict(sorted(data.items(),key=lambda item:item[1]))\n",
        "\n",
        "print(sorted_list)\n"
      ],
      "metadata": {
        "colab": {
          "base_uri": "https://localhost:8080/"
        },
        "id": "wWa8lEKmPxYc",
        "outputId": "9617eec0-78e0-4e21-c86b-e110ff908aee"
      },
      "execution_count": null,
      "outputs": [
        {
          "output_type": "stream",
          "name": "stdout",
          "text": [
            "{'b': 10, 'd': 20, 'a': 30, 'c': 50}\n"
          ]
        }
      ]
    },
    {
      "cell_type": "markdown",
      "source": [
        "**Create a dictionary from two lists (keys, values).**"
      ],
      "metadata": {
        "id": "YJa3xS0bQ3oS"
      }
    },
    {
      "cell_type": "code",
      "source": [
        "keys=['a', 'b', 'c', 'd']\n",
        "values=[10, 20, 30, 40]\n",
        "my_dict=dict(zip(keys,values))\n",
        "print('dictionary',my_dict)\n"
      ],
      "metadata": {
        "colab": {
          "base_uri": "https://localhost:8080/"
        },
        "id": "kpNBSiB1QluE",
        "outputId": "da5c36a5-a125-4d53-b17f-36606fde39cd"
      },
      "execution_count": null,
      "outputs": [
        {
          "output_type": "stream",
          "name": "stdout",
          "text": [
            "dictionary {'a': 10, 'b': 20, 'c': 30, 'd': 40}\n"
          ]
        }
      ]
    },
    {
      "cell_type": "code",
      "source": [],
      "metadata": {
        "id": "XTi16AnWRLJ8"
      },
      "execution_count": null,
      "outputs": []
    }
  ]
}