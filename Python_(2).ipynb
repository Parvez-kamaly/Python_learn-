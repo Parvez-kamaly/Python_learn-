{
  "nbformat": 4,
  "nbformat_minor": 0,
  "metadata": {
    "colab": {
      "provenance": [],
      "authorship_tag": "ABX9TyN18ZLiQOwGi+xI3dgTi6Re",
      "include_colab_link": true
    },
    "kernelspec": {
      "name": "python3",
      "display_name": "Python 3"
    },
    "language_info": {
      "name": "python"
    }
  },
  "cells": [
    {
      "cell_type": "markdown",
      "metadata": {
        "id": "view-in-github",
        "colab_type": "text"
      },
      "source": [
        "<a href=\"https://colab.research.google.com/github/Parvez-kamaly/Python_learn-/blob/main/Python_(2).ipynb\" target=\"_parent\"><img src=\"https://colab.research.google.com/assets/colab-badge.svg\" alt=\"Open In Colab\"/></a>"
      ]
    },
    {
      "cell_type": "markdown",
      "source": [
        "**Arithmetic Operators**"
      ],
      "metadata": {
        "id": "Ip-53HAg7nVY"
      }
    },
    {
      "cell_type": "code",
      "execution_count": null,
      "metadata": {
        "colab": {
          "base_uri": "https://localhost:8080/"
        },
        "id": "zot_dYRP0cjc",
        "outputId": "96d6f539-7f10-4cc4-b7f7-c2ad85863b56"
      },
      "outputs": [
        {
          "output_type": "stream",
          "name": "stdout",
          "text": [
            "addition 19\n",
            "subraction 11\n",
            "multiplication 60\n",
            "division 3.75\n",
            "floor division 3\n",
            "modulas 3\n",
            "exponential 50625\n"
          ]
        }
      ],
      "source": [
        "#Variables\n",
        "a=15\n",
        "b=4\n",
        "\n",
        "#addition\n",
        "print('addition',a+b)\n",
        "\n",
        "#subtraction\n",
        "print('subraction',a-b)\n",
        "\n",
        "#Multiplication\n",
        "print('multiplication',a*b)\n",
        "\n",
        "#division\n",
        "print('division',a/b)\n",
        "\n",
        "#floor division\n",
        "print('floor division',a//b)\n",
        "\n",
        "#modulas\n",
        "print('modulas',a%b)\n",
        "\n",
        "#exponential\n",
        "print('exponential',a**b)"
      ]
    },
    {
      "cell_type": "markdown",
      "source": [
        "**Comparison Operators**"
      ],
      "metadata": {
        "id": "sbiWNSZL1xdJ"
      }
    },
    {
      "cell_type": "code",
      "source": [
        "a=13\n",
        "b=33\n",
        "\n",
        "print(a>b)\n",
        "print(a<b)\n",
        "print(a==b)\n",
        "print(a>=b)\n",
        "print(a<=b)"
      ],
      "metadata": {
        "colab": {
          "base_uri": "https://localhost:8080/"
        },
        "id": "fKE8_5eN1009",
        "outputId": "4e35e43c-fad5-4c54-df46-985cb42ccdec"
      },
      "execution_count": null,
      "outputs": [
        {
          "output_type": "stream",
          "name": "stdout",
          "text": [
            "False\n",
            "True\n",
            "False\n",
            "False\n",
            "True\n"
          ]
        }
      ]
    },
    {
      "cell_type": "markdown",
      "source": [
        "**Logical Operators**"
      ],
      "metadata": {
        "id": "afAwpMar2CAY"
      }
    },
    {
      "cell_type": "code",
      "source": [
        "a=True\n",
        "b=False\n",
        "\n",
        "print(a and b)\n",
        "print(a or b)\n",
        "print(not a)"
      ],
      "metadata": {
        "colab": {
          "base_uri": "https://localhost:8080/"
        },
        "id": "1zZqT3Er2FSm",
        "outputId": "0de1ecd8-0767-4dec-85a8-c50cb21f855b"
      },
      "execution_count": null,
      "outputs": [
        {
          "output_type": "stream",
          "name": "stdout",
          "text": [
            "False\n",
            "True\n",
            "False\n"
          ]
        }
      ]
    },
    {
      "cell_type": "markdown",
      "source": [
        "**Bitwise Operators**"
      ],
      "metadata": {
        "id": "mwtJI2mX2UXx"
      }
    },
    {
      "cell_type": "code",
      "source": [
        "a=10\n",
        "b=4\n",
        "print(a&b)\n",
        "print(a|b)\n",
        "print(~a)\n",
        "print(a^b)\n",
        "print(a>>2)\n",
        "print(a<<2)"
      ],
      "metadata": {
        "colab": {
          "base_uri": "https://localhost:8080/"
        },
        "id": "pi_ysBf-2REQ",
        "outputId": "5041e768-d06e-4c20-91e0-ffd263398773"
      },
      "execution_count": null,
      "outputs": [
        {
          "output_type": "stream",
          "name": "stdout",
          "text": [
            "0\n",
            "14\n",
            "-11\n",
            "14\n",
            "2\n",
            "40\n"
          ]
        }
      ]
    },
    {
      "cell_type": "markdown",
      "source": [
        "**Identity Operators**"
      ],
      "metadata": {
        "id": "Ud1GP6gs3evf"
      }
    },
    {
      "cell_type": "code",
      "source": [
        "a=10\n",
        "b=20\n",
        "c=a\n",
        "print(a is not b)"
      ],
      "metadata": {
        "colab": {
          "base_uri": "https://localhost:8080/"
        },
        "id": "5FMdLAWQ2sMg",
        "outputId": "e93b5f95-1768-4db4-8d3a-2c09fa8d1053"
      },
      "execution_count": null,
      "outputs": [
        {
          "output_type": "stream",
          "name": "stdout",
          "text": [
            "True\n"
          ]
        }
      ]
    },
    {
      "cell_type": "code",
      "source": [
        "print(a is c)"
      ],
      "metadata": {
        "colab": {
          "base_uri": "https://localhost:8080/"
        },
        "id": "zo5-QPCo3keu",
        "outputId": "da54bd9e-2ca6-40a9-b852-f177dbf5d92d"
      },
      "execution_count": null,
      "outputs": [
        {
          "output_type": "stream",
          "name": "stdout",
          "text": [
            "True\n"
          ]
        }
      ]
    },
    {
      "cell_type": "code",
      "source": [
        "print(a is not c)"
      ],
      "metadata": {
        "colab": {
          "base_uri": "https://localhost:8080/"
        },
        "id": "WNhGy5U_3mp3",
        "outputId": "91bdf24c-0c56-41f7-c913-46190e563b25"
      },
      "execution_count": null,
      "outputs": [
        {
          "output_type": "stream",
          "name": "stdout",
          "text": [
            "False\n"
          ]
        }
      ]
    },
    {
      "cell_type": "code",
      "source": [
        "print(b is c)"
      ],
      "metadata": {
        "colab": {
          "base_uri": "https://localhost:8080/"
        },
        "id": "r7EJrmiq3n_H",
        "outputId": "6a93f309-8ed1-4e0f-f690-39066705527f"
      },
      "execution_count": null,
      "outputs": [
        {
          "output_type": "stream",
          "name": "stdout",
          "text": [
            "False\n"
          ]
        }
      ]
    },
    {
      "cell_type": "markdown",
      "source": [
        "**Membership Operators**"
      ],
      "metadata": {
        "id": "xSF8jo8f4L4P"
      }
    },
    {
      "cell_type": "code",
      "source": [
        "x=24\n",
        "y=20\n",
        "list=[10,20,30,40,50]\n",
        "\n",
        "if(x not in list):\n",
        "  print('x is not present in given list')\n",
        "else:\n",
        "  print('x is present in given list')\n",
        "\n",
        "\n"
      ],
      "metadata": {
        "colab": {
          "base_uri": "https://localhost:8080/"
        },
        "id": "o1Oz8xeC3p8X",
        "outputId": "4f2b5640-09ab-48ad-d96f-a5aa485e902b"
      },
      "execution_count": null,
      "outputs": [
        {
          "output_type": "stream",
          "name": "stdout",
          "text": [
            "x is not present in given list\n"
          ]
        }
      ]
    },
    {
      "cell_type": "code",
      "source": [
        "if(y in list):\n",
        "  print('y is present in given list')\n",
        "else:\n",
        "  print('y is not present in give list')"
      ],
      "metadata": {
        "colab": {
          "base_uri": "https://localhost:8080/"
        },
        "id": "u86y6LEv4Wzw",
        "outputId": "ccba57ba-f280-4b9c-eed4-7618f74373be"
      },
      "execution_count": null,
      "outputs": [
        {
          "output_type": "stream",
          "name": "stdout",
          "text": [
            "y is present in given list\n"
          ]
        }
      ]
    },
    {
      "cell_type": "markdown",
      "source": [
        "**Python Data Types**"
      ],
      "metadata": {
        "id": "aeRrX35F6oKv"
      }
    },
    {
      "cell_type": "code",
      "source": [
        "a=5\n",
        "print(type(a))\n",
        "\n",
        "b=5.0\n",
        "print(type(b))\n",
        "\n",
        "c=2+4j\n",
        "print(type(c))"
      ],
      "metadata": {
        "colab": {
          "base_uri": "https://localhost:8080/"
        },
        "id": "q91Kt-2k6SOP",
        "outputId": "a6b852c9-6723-4635-fdd6-74150c08b6bf"
      },
      "execution_count": null,
      "outputs": [
        {
          "output_type": "stream",
          "name": "stdout",
          "text": [
            "<class 'int'>\n",
            "<class 'float'>\n",
            "<class 'complex'>\n"
          ]
        }
      ]
    },
    {
      "cell_type": "code",
      "source": [
        "s='Welcome to the EEE Department'\n",
        "print(s)\n",
        "print(type(s))"
      ],
      "metadata": {
        "colab": {
          "base_uri": "https://localhost:8080/"
        },
        "id": "pQXLOOHg62R4",
        "outputId": "d71c7dc1-1364-45dc-a6e2-47aab74f1bd3"
      },
      "execution_count": null,
      "outputs": [
        {
          "output_type": "stream",
          "name": "stdout",
          "text": [
            "Welcome to the EEE Department\n",
            "<class 'str'>\n"
          ]
        }
      ]
    },
    {
      "cell_type": "code",
      "source": [
        "print(s[0])"
      ],
      "metadata": {
        "colab": {
          "base_uri": "https://localhost:8080/"
        },
        "id": "aViVzkNY6_le",
        "outputId": "7b7d8279-f525-456a-edea-04fe1248bdc0"
      },
      "execution_count": null,
      "outputs": [
        {
          "output_type": "stream",
          "name": "stdout",
          "text": [
            "W\n"
          ]
        }
      ]
    },
    {
      "cell_type": "code",
      "source": [
        "print(s[-1])"
      ],
      "metadata": {
        "colab": {
          "base_uri": "https://localhost:8080/"
        },
        "id": "ZyxccoZ27EI_",
        "outputId": "f098e01a-72be-4b0a-b187-495683ded55e"
      },
      "execution_count": null,
      "outputs": [
        {
          "output_type": "stream",
          "name": "stdout",
          "text": [
            "t\n"
          ]
        }
      ]
    },
    {
      "cell_type": "code",
      "source": [
        "print(s[8])"
      ],
      "metadata": {
        "colab": {
          "base_uri": "https://localhost:8080/"
        },
        "id": "EBvV_e0d7GRv",
        "outputId": "b4cf9af0-a806-492c-dc48-92e0e3e0a7d3"
      },
      "execution_count": null,
      "outputs": [
        {
          "output_type": "stream",
          "name": "stdout",
          "text": [
            "t\n"
          ]
        }
      ]
    },
    {
      "cell_type": "markdown",
      "source": [
        "**List Data Type**"
      ],
      "metadata": {
        "id": "09GeiA7B7NDY"
      }
    },
    {
      "cell_type": "code",
      "source": [
        "#empty list\n",
        "a=[]\n",
        "print(a)"
      ],
      "metadata": {
        "colab": {
          "base_uri": "https://localhost:8080/"
        },
        "id": "pH6_UXOG7J6_",
        "outputId": "33760c80-20bc-45f6-c8e1-89ef4b12d6b8"
      },
      "execution_count": null,
      "outputs": [
        {
          "output_type": "stream",
          "name": "stdout",
          "text": [
            "[]\n"
          ]
        }
      ]
    },
    {
      "cell_type": "code",
      "source": [
        "a=[1,2,3]\n",
        "print(a)"
      ],
      "metadata": {
        "colab": {
          "base_uri": "https://localhost:8080/"
        },
        "id": "zllIsKxk7UsA",
        "outputId": "dfe49880-deef-4beb-d5a4-23f5b7682bb0"
      },
      "execution_count": null,
      "outputs": [
        {
          "output_type": "stream",
          "name": "stdout",
          "text": [
            "[1, 2, 3]\n"
          ]
        }
      ]
    },
    {
      "cell_type": "code",
      "source": [
        "print(type(a))"
      ],
      "metadata": {
        "colab": {
          "base_uri": "https://localhost:8080/"
        },
        "id": "S28LsEPW7YL_",
        "outputId": "8f8c32ed-687c-4376-a4b5-3575d17c871e"
      },
      "execution_count": null,
      "outputs": [
        {
          "output_type": "stream",
          "name": "stdout",
          "text": [
            "<class 'list'>\n"
          ]
        }
      ]
    },
    {
      "cell_type": "code",
      "source": [
        "#list with mixed int and string\n",
        "b=['geeks','for','PK',4,5]\n",
        "print(b)"
      ],
      "metadata": {
        "colab": {
          "base_uri": "https://localhost:8080/"
        },
        "id": "npzw8h6i7Zmn",
        "outputId": "9428a263-8997-4706-d7c0-ac49ec6104b9"
      },
      "execution_count": null,
      "outputs": [
        {
          "output_type": "stream",
          "name": "stdout",
          "text": [
            "['geeks', 'for', 'PK', 4, 5]\n"
          ]
        }
      ]
    },
    {
      "cell_type": "markdown",
      "source": [
        "**Tuple Data Type**"
      ],
      "metadata": {
        "id": "LlP81gfE7ljf"
      }
    },
    {
      "cell_type": "code",
      "source": [
        "# initiate empty tuple\n",
        "tup1=()\n",
        "\n",
        "tup2=('Geeks','PARVEZ')\n",
        "print(tup2)\n",
        "print(type(tup2))"
      ],
      "metadata": {
        "colab": {
          "base_uri": "https://localhost:8080/"
        },
        "id": "Z0zQwQCP7i1X",
        "outputId": "02bbcd9c-3970-4182-8aaa-80879eb15c87"
      },
      "execution_count": null,
      "outputs": [
        {
          "output_type": "stream",
          "name": "stdout",
          "text": [
            "('Geeks', 'PARVEZ')\n",
            "<class 'tuple'>\n"
          ]
        }
      ]
    },
    {
      "cell_type": "code",
      "source": [
        "t=(1,2,3,4,5)\n",
        "print(t)\n",
        "print(type(t))\n",
        "print(t[0])"
      ],
      "metadata": {
        "colab": {
          "base_uri": "https://localhost:8080/"
        },
        "id": "ciXQzLQa8E9_",
        "outputId": "86ccaa22-cddf-45b8-b497-0670b3f24af0"
      },
      "execution_count": null,
      "outputs": [
        {
          "output_type": "stream",
          "name": "stdout",
          "text": [
            "(1, 2, 3, 4, 5)\n",
            "<class 'tuple'>\n",
            "1\n"
          ]
        }
      ]
    },
    {
      "cell_type": "code",
      "source": [
        "print(t[-1])"
      ],
      "metadata": {
        "colab": {
          "base_uri": "https://localhost:8080/"
        },
        "id": "BSOqRzYR8XNX",
        "outputId": "306925ea-3bb6-45c4-8399-3100a61aefe2"
      },
      "execution_count": null,
      "outputs": [
        {
          "output_type": "stream",
          "name": "stdout",
          "text": [
            "5\n"
          ]
        }
      ]
    },
    {
      "cell_type": "markdown",
      "source": [
        "**Set Data Type in Python**"
      ],
      "metadata": {
        "id": "7POCFACF9cF3"
      }
    },
    {
      "cell_type": "code",
      "source": [
        "s={1,2,3,4,5}\n",
        "print(s,type(s))"
      ],
      "metadata": {
        "colab": {
          "base_uri": "https://localhost:8080/"
        },
        "id": "rEq04k_E8Z4P",
        "outputId": "e77aee1d-13d2-4c90-b598-ed3aa9833282"
      },
      "execution_count": null,
      "outputs": [
        {
          "output_type": "stream",
          "name": "stdout",
          "text": [
            "{1, 2, 3, 4, 5} <class 'set'>\n"
          ]
        }
      ]
    },
    {
      "cell_type": "code",
      "source": [
        "s={'Ronaldo','Messi','Akin','Neymar',100,5.5}\n",
        "print(s,type(s))"
      ],
      "metadata": {
        "colab": {
          "base_uri": "https://localhost:8080/"
        },
        "id": "e_Ltbue59rcn",
        "outputId": "fd2bf763-5804-4798-eb80-868e8640fd0d"
      },
      "execution_count": null,
      "outputs": [
        {
          "output_type": "stream",
          "name": "stdout",
          "text": [
            "{100, 5.5, 'Ronaldo', 'Messi', 'Neymar', 'Akin'} <class 'set'>\n"
          ]
        }
      ]
    },
    {
      "cell_type": "markdown",
      "source": [
        "**Dictionary Data Type**"
      ],
      "metadata": {
        "id": "3QCX5vTa99d3"
      }
    },
    {
      "cell_type": "code",
      "source": [
        "d={1:'value',2:'Key',c:'Arian'}\n",
        "print(d,type(d))"
      ],
      "metadata": {
        "colab": {
          "base_uri": "https://localhost:8080/"
        },
        "id": "M9onPUrj923P",
        "outputId": "afb6a5cc-6e82-4c98-e718-fe63181a2820"
      },
      "execution_count": null,
      "outputs": [
        {
          "output_type": "stream",
          "name": "stdout",
          "text": [
            "{1: 'value', 2: 'Key', (2+4j): 'Arian'} <class 'dict'>\n"
          ]
        }
      ]
    },
    {
      "cell_type": "code",
      "source": [
        "d={\n",
        "        'Name':'Parvez',\n",
        "        'Roll':'2020338527',\n",
        "        'Department':'EEE',\n",
        "\n",
        "\n",
        "}\n",
        "print(d)\n",
        "print(type(d))"
      ],
      "metadata": {
        "colab": {
          "base_uri": "https://localhost:8080/"
        },
        "id": "sIda0TQp-JMH",
        "outputId": "aa52e004-2c8d-4d6e-a054-7a976abb289f"
      },
      "execution_count": null,
      "outputs": [
        {
          "output_type": "stream",
          "name": "stdout",
          "text": [
            "{'Name': 'Parvez', 'Roll': '2020338527', 'Department': 'EEE'}\n",
            "<class 'dict'>\n"
          ]
        }
      ]
    },
    {
      "cell_type": "code",
      "source": [
        "d={\n",
        "        'Name':'Parvez',\n",
        "        'Roll':'2020338527',\n",
        "        'Department':'EEE',\n",
        "        'Session':2020-21\n",
        "\n",
        "}\n",
        "print(d,type(d))"
      ],
      "metadata": {
        "colab": {
          "base_uri": "https://localhost:8080/"
        },
        "id": "O7aAKf5Z-cjn",
        "outputId": "3c03ca83-eaf1-482b-cb79-dd2653704600"
      },
      "execution_count": null,
      "outputs": [
        {
          "output_type": "stream",
          "name": "stdout",
          "text": [
            "{'Name': 'Parvez', 'Roll': '2020338527', 'Department': 'EEE', 'Session': 1999} <class 'dict'>\n"
          ]
        }
      ]
    },
    {
      "cell_type": "markdown",
      "source": [
        "**Q1. Code to implement basic list operations**"
      ],
      "metadata": {
        "id": "bpCBfGVL_eoQ"
      }
    },
    {
      "cell_type": "code",
      "source": [
        "fruits=['apple','banana','orange']\n",
        "print(fruits)"
      ],
      "metadata": {
        "colab": {
          "base_uri": "https://localhost:8080/"
        },
        "id": "-uOct9MX-_qX",
        "outputId": "830b8cab-2917-4f53-b2df-362ac85994f2"
      },
      "execution_count": null,
      "outputs": [
        {
          "output_type": "stream",
          "name": "stdout",
          "text": [
            "['apple', 'banana', 'orange']\n"
          ]
        }
      ]
    },
    {
      "cell_type": "code",
      "source": [
        "fruits.append('grapes')\n",
        "print(fruits)"
      ],
      "metadata": {
        "colab": {
          "base_uri": "https://localhost:8080/"
        },
        "id": "CotBcc-__mUG",
        "outputId": "f4367cbc-6b9e-491a-9ca9-27b57440c75c"
      },
      "execution_count": null,
      "outputs": [
        {
          "output_type": "stream",
          "name": "stdout",
          "text": [
            "['apple', 'banana', 'orange', 'grapes']\n"
          ]
        }
      ]
    },
    {
      "cell_type": "code",
      "source": [
        "fruits.append('Mango')"
      ],
      "metadata": {
        "id": "AmK7B7qd_roX"
      },
      "execution_count": null,
      "outputs": []
    },
    {
      "cell_type": "code",
      "source": [
        "print(fruits)"
      ],
      "metadata": {
        "colab": {
          "base_uri": "https://localhost:8080/"
        },
        "id": "GUd4EfSW_umH",
        "outputId": "0b7214a0-97a5-486f-9f65-db63072ad67b"
      },
      "execution_count": null,
      "outputs": [
        {
          "output_type": "stream",
          "name": "stdout",
          "text": [
            "['apple', 'banana', 'orange', 'grapes', 'Mango']\n"
          ]
        }
      ]
    },
    {
      "cell_type": "code",
      "source": [
        "fruits.append('Jackfruit')\n",
        "print(fruits)"
      ],
      "metadata": {
        "colab": {
          "base_uri": "https://localhost:8080/"
        },
        "id": "_4p3LAtq_vyX",
        "outputId": "ae2a01da-8c3b-4cff-b4fe-c99eb88f5992"
      },
      "execution_count": null,
      "outputs": [
        {
          "output_type": "stream",
          "name": "stdout",
          "text": [
            "['apple', 'banana', 'orange', 'grapes', 'Mango', 'Jackfruit']\n"
          ]
        }
      ]
    },
    {
      "cell_type": "code",
      "source": [
        "fruits.remove('Mango')\n",
        "print(fruits)"
      ],
      "metadata": {
        "colab": {
          "base_uri": "https://localhost:8080/"
        },
        "id": "UXOcZKJV_3BA",
        "outputId": "7ab56ba1-8b6b-449c-e7e9-ae9bbf98ec72"
      },
      "execution_count": null,
      "outputs": [
        {
          "output_type": "stream",
          "name": "stdout",
          "text": [
            "['apple', 'banana', 'orange', 'grapes', 'Jackfruit']\n"
          ]
        }
      ]
    },
    {
      "cell_type": "code",
      "source": [
        "print(fruits[3])  #indexing\n"
      ],
      "metadata": {
        "colab": {
          "base_uri": "https://localhost:8080/"
        },
        "id": "dBcRmGmu_9eA",
        "outputId": "15a46319-c685-421e-a148-f06d9487f4ca"
      },
      "execution_count": null,
      "outputs": [
        {
          "output_type": "stream",
          "name": "stdout",
          "text": [
            "grapes\n"
          ]
        }
      ]
    },
    {
      "cell_type": "code",
      "source": [],
      "metadata": {
        "id": "fUDqkaNhAA_I"
      },
      "execution_count": null,
      "outputs": []
    }
  ]
}