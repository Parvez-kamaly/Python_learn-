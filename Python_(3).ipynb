{
  "nbformat": 4,
  "nbformat_minor": 0,
  "metadata": {
    "colab": {
      "provenance": [],
      "authorship_tag": "ABX9TyOTXU2PhckscyWFalnx4GjR",
      "include_colab_link": true
    },
    "kernelspec": {
      "name": "python3",
      "display_name": "Python 3"
    },
    "language_info": {
      "name": "python"
    }
  },
  "cells": [
    {
      "cell_type": "markdown",
      "metadata": {
        "id": "view-in-github",
        "colab_type": "text"
      },
      "source": [
        "<a href=\"https://colab.research.google.com/github/Parvez-kamaly/Python_learn-/blob/main/Python_(3).ipynb\" target=\"_parent\"><img src=\"https://colab.research.google.com/assets/colab-badge.svg\" alt=\"Open In Colab\"/></a>"
      ]
    },
    {
      "cell_type": "markdown",
      "source": [
        "**Conditional Statements in Python**"
      ],
      "metadata": {
        "id": "ZDI6xIWhFtcH"
      }
    },
    {
      "cell_type": "code",
      "execution_count": null,
      "metadata": {
        "colab": {
          "base_uri": "https://localhost:8080/"
        },
        "id": "bZHZQFv0FULI",
        "outputId": "ca07b087-a451-4f7f-9959-6e3319b8f917"
      },
      "outputs": [
        {
          "output_type": "stream",
          "name": "stdout",
          "text": [
            "Eligible to vote.\n"
          ]
        }
      ],
      "source": [
        "age=20\n",
        "if age>=18:\n",
        "  print('Eligible to vote.')"
      ]
    },
    {
      "cell_type": "code",
      "source": [
        "age=16\n",
        "if age<=18:\n",
        "  print('Not Eligible to vote')"
      ],
      "metadata": {
        "colab": {
          "base_uri": "https://localhost:8080/"
        },
        "id": "KFKojc15F4t_",
        "outputId": "5d0be26a-d75f-4c19-f0cf-77c88375bd89"
      },
      "execution_count": null,
      "outputs": [
        {
          "output_type": "stream",
          "name": "stdout",
          "text": [
            "Not Eligible to vote\n"
          ]
        }
      ]
    },
    {
      "cell_type": "code",
      "source": [
        "age=10\n",
        "if age<=12:\n",
        "  print('Travel for free')\n",
        "else:\n",
        "  print('Pay for ticket')"
      ],
      "metadata": {
        "colab": {
          "base_uri": "https://localhost:8080/"
        },
        "id": "eOQaEqyeF_me",
        "outputId": "18d2ee24-ddb5-48d5-f01b-e015a8010899"
      },
      "execution_count": null,
      "outputs": [
        {
          "output_type": "stream",
          "name": "stdout",
          "text": [
            "Travel for free\n"
          ]
        }
      ]
    },
    {
      "cell_type": "code",
      "source": [
        "marks=45\n",
        "res='pass' if marks>=35 else 'Fail'\n",
        "print('Result',res)"
      ],
      "metadata": {
        "colab": {
          "base_uri": "https://localhost:8080/"
        },
        "id": "4wyCR141GRbm",
        "outputId": "180bc18f-6550-4c90-d86b-222409a3536e"
      },
      "execution_count": null,
      "outputs": [
        {
          "output_type": "stream",
          "name": "stdout",
          "text": [
            "Result pass\n"
          ]
        }
      ]
    },
    {
      "cell_type": "code",
      "source": [
        "marks=45\n",
        "res='pass' if marks>=50 else 'Fail'\n",
        "print('Result',res)"
      ],
      "metadata": {
        "colab": {
          "base_uri": "https://localhost:8080/"
        },
        "id": "Ib3vTytdGhye",
        "outputId": "49565373-ba0c-4aee-995c-5f7c4c57a193"
      },
      "execution_count": null,
      "outputs": [
        {
          "output_type": "stream",
          "name": "stdout",
          "text": [
            "Result Fail\n"
          ]
        }
      ]
    },
    {
      "cell_type": "code",
      "source": [
        "parvez_age=25\n",
        "if parvez_age<=18:\n",
        "  print('He is a child now')\n",
        "elif parvez_age>18:\n",
        "  print('He is a young adult')\n",
        "else:\n",
        "  print('He is only adult')"
      ],
      "metadata": {
        "colab": {
          "base_uri": "https://localhost:8080/"
        },
        "id": "nU0nVA3UGq5l",
        "outputId": "ed566dd1-dee5-4db0-edce-c39e67db0604"
      },
      "execution_count": null,
      "outputs": [
        {
          "output_type": "stream",
          "name": "stdout",
          "text": [
            "He is a young adult\n"
          ]
        }
      ]
    },
    {
      "cell_type": "markdown",
      "source": [
        "**Nested if..else Conditional Statement**"
      ],
      "metadata": {
        "id": "Jw6VJDTVIOtW"
      }
    },
    {
      "cell_type": "code",
      "source": [
        "marks=int(input('Enter your marks:'))\n",
        "\n",
        "if marks>=40:\n",
        "  if marks>=80:\n",
        "    print('Grade A+')\n",
        "  if marks<=80:\n",
        "    print('Pass')\n",
        "else:\n",
        "  print('Fail')"
      ],
      "metadata": {
        "colab": {
          "base_uri": "https://localhost:8080/"
        },
        "id": "Q3EcajkeHHku",
        "outputId": "6373e375-5b24-4f00-b87f-164cd848b15e"
      },
      "execution_count": null,
      "outputs": [
        {
          "output_type": "stream",
          "name": "stdout",
          "text": [
            "Enter your marks:33\n",
            "Fail\n"
          ]
        }
      ]
    },
    {
      "cell_type": "code",
      "source": [
        "marks=int(input('Enter your marks:'))\n",
        "\n",
        "if marks>=40:\n",
        "  if marks>=80:\n",
        "    print('Grade A+')\n",
        "  if marks<=80:\n",
        "    print('Pass')\n",
        "else:\n",
        "  print('Fail')\n"
      ],
      "metadata": {
        "colab": {
          "base_uri": "https://localhost:8080/"
        },
        "id": "2FyNmWaSIrbf",
        "outputId": "68b74946-3ddd-462c-905a-1d3f2492637e"
      },
      "execution_count": null,
      "outputs": [
        {
          "output_type": "stream",
          "name": "stdout",
          "text": [
            "Enter your marks:89\n",
            "Grade A+\n"
          ]
        }
      ]
    },
    {
      "cell_type": "code",
      "source": [
        "num=int(input('Enter a number:'))\n",
        "\n",
        "if num>=0:\n",
        "  if num==0:\n",
        "    print('Number is zero')\n",
        "  else:\n",
        "    print('Number is positive')\n",
        "else:\n",
        "  print('Number is negative')\n"
      ],
      "metadata": {
        "colab": {
          "base_uri": "https://localhost:8080/"
        },
        "id": "xcsE55XwI3St",
        "outputId": "52d4bd06-ffc6-4821-f23e-6c51d1ed91cb"
      },
      "execution_count": null,
      "outputs": [
        {
          "output_type": "stream",
          "name": "stdout",
          "text": [
            "Enter a number:2\n",
            "Number is positive\n"
          ]
        }
      ]
    },
    {
      "cell_type": "code",
      "source": [
        "# check age\n",
        "age=int(input('Enter your age:'))\n",
        "\n",
        "if age>=18:\n",
        "  if age>=60:\n",
        "    print('SENIOR CITIZEN')\n",
        "  else:\n",
        "    print('YOUNG citizen')\n",
        "else:\n",
        "  print('child')"
      ],
      "metadata": {
        "colab": {
          "base_uri": "https://localhost:8080/"
        },
        "id": "ptqL4OSSKB23",
        "outputId": "c033c2b6-6d9b-424d-aa87-e3d8dae9abbe"
      },
      "execution_count": null,
      "outputs": [
        {
          "output_type": "stream",
          "name": "stdout",
          "text": [
            "Enter your age:90\n",
            "SENIOR CITIZEN\n"
          ]
        }
      ]
    },
    {
      "cell_type": "markdown",
      "source": [
        "**Loops in Python - For, While and Nested Loops**"
      ],
      "metadata": {
        "id": "YQXJlGxiLjPI"
      }
    },
    {
      "cell_type": "code",
      "source": [
        "n=5\n",
        "for i in range(0,n):\n",
        "  print(i)"
      ],
      "metadata": {
        "colab": {
          "base_uri": "https://localhost:8080/"
        },
        "id": "kO26ObZfK5Fn",
        "outputId": "1c4a7682-83ef-4a61-99aa-9b1d2b358846"
      },
      "execution_count": null,
      "outputs": [
        {
          "output_type": "stream",
          "name": "stdout",
          "text": [
            "0\n",
            "1\n",
            "2\n",
            "3\n",
            "4\n"
          ]
        }
      ]
    },
    {
      "cell_type": "code",
      "source": [
        "n=5\n",
        "for i in range(0,n+1):\n",
        "  print(i)"
      ],
      "metadata": {
        "colab": {
          "base_uri": "https://localhost:8080/"
        },
        "id": "_26bN-PzLzTQ",
        "outputId": "8afd3619-a493-491b-db84-a88d60cee74f"
      },
      "execution_count": null,
      "outputs": [
        {
          "output_type": "stream",
          "name": "stdout",
          "text": [
            "0\n",
            "1\n",
            "2\n",
            "3\n",
            "4\n",
            "5\n"
          ]
        }
      ]
    },
    {
      "cell_type": "code",
      "source": [
        "li=['geeks','for','geeks']\n",
        "for i in li:\n",
        "  print(i)"
      ],
      "metadata": {
        "colab": {
          "base_uri": "https://localhost:8080/"
        },
        "id": "CfWG7hpvL7bW",
        "outputId": "763a3b4e-9c95-4872-da9f-b8e09122af28"
      },
      "execution_count": null,
      "outputs": [
        {
          "output_type": "stream",
          "name": "stdout",
          "text": [
            "geeks\n",
            "for\n",
            "geeks\n"
          ]
        }
      ]
    },
    {
      "cell_type": "code",
      "source": [
        "tup=('Mango','Apple','Banana')\n",
        "for i in tup:\n",
        "  print(i,type(tup))"
      ],
      "metadata": {
        "colab": {
          "base_uri": "https://localhost:8080/"
        },
        "id": "Lsn-1sDgM6f4",
        "outputId": "d512c996-45be-41d5-f6ee-6c87119e333a"
      },
      "execution_count": null,
      "outputs": [
        {
          "output_type": "stream",
          "name": "stdout",
          "text": [
            "Mango <class 'tuple'>\n",
            "Apple <class 'tuple'>\n",
            "Banana <class 'tuple'>\n"
          ]
        }
      ]
    },
    {
      "cell_type": "code",
      "source": [
        "for index in range(len(tup)):\n",
        "  print(index)"
      ],
      "metadata": {
        "colab": {
          "base_uri": "https://localhost:8080/"
        },
        "id": "kRzxsJwtNDif",
        "outputId": "9067784a-ef39-4d04-efd2-0f0b4c65a634"
      },
      "execution_count": null,
      "outputs": [
        {
          "output_type": "stream",
          "name": "stdout",
          "text": [
            "0\n",
            "1\n",
            "2\n"
          ]
        }
      ]
    },
    {
      "cell_type": "code",
      "source": [
        "print(tup[index])"
      ],
      "metadata": {
        "colab": {
          "base_uri": "https://localhost:8080/"
        },
        "id": "nH4ySukSNaBI",
        "outputId": "a5ae9a3f-6e39-4d7c-ff93-fbc569e62532"
      },
      "execution_count": null,
      "outputs": [
        {
          "output_type": "stream",
          "name": "stdout",
          "text": [
            "Banana\n"
          ]
        }
      ]
    },
    {
      "cell_type": "code",
      "source": [
        "#while loop\n",
        "cnt=0\n",
        "while(cnt<3):\n",
        "  cnt=cnt+1\n",
        "  print('HELLO MAN')"
      ],
      "metadata": {
        "colab": {
          "base_uri": "https://localhost:8080/"
        },
        "id": "UCEknVuRNe8-",
        "outputId": "97fd7a6d-b810-4d0a-a001-2baf5b27d574"
      },
      "execution_count": null,
      "outputs": [
        {
          "output_type": "stream",
          "name": "stdout",
          "text": [
            "HELLO MAN\n",
            "HELLO MAN\n",
            "HELLO MAN\n"
          ]
        }
      ]
    },
    {
      "cell_type": "code",
      "source": [
        "num=int(input('Enter the numbers:'))\n",
        "\n",
        "while(num<10):\n",
        "\n",
        "  print('HELLO MAN')\n",
        "  num=num+1\n",
        "else:\n",
        "  print('CONDITION NOT MATCH')"
      ],
      "metadata": {
        "colab": {
          "base_uri": "https://localhost:8080/"
        },
        "id": "-LLPQDg8N45f",
        "outputId": "fd46664b-96e7-4768-86d2-1819d1771fb1"
      },
      "execution_count": null,
      "outputs": [
        {
          "output_type": "stream",
          "name": "stdout",
          "text": [
            "Enter the numbers:3\n",
            "HELLO MAN\n",
            "HELLO MAN\n",
            "HELLO MAN\n",
            "HELLO MAN\n",
            "HELLO MAN\n",
            "HELLO MAN\n",
            "HELLO MAN\n",
            "CONDITION NOT MATCH\n"
          ]
        }
      ]
    },
    {
      "cell_type": "code",
      "source": [
        "i=1\n",
        "while i<=5:\n",
        "  print(i)\n",
        "  i+=1"
      ],
      "metadata": {
        "colab": {
          "base_uri": "https://localhost:8080/"
        },
        "id": "hWnC2I3QPQMA",
        "outputId": "9dbcae47-59e0-4e74-bd58-2eb50898a063"
      },
      "execution_count": null,
      "outputs": [
        {
          "output_type": "stream",
          "name": "stdout",
          "text": [
            "1\n",
            "2\n",
            "3\n",
            "4\n",
            "5\n"
          ]
        }
      ]
    },
    {
      "cell_type": "code",
      "source": [
        "for i in range(1,11):\n",
        "  print(i,end=' ')"
      ],
      "metadata": {
        "colab": {
          "base_uri": "https://localhost:8080/"
        },
        "id": "Xqg8y24WQH1A",
        "outputId": "251963cc-10f2-43e4-a440-201cf3035955"
      },
      "execution_count": null,
      "outputs": [
        {
          "output_type": "stream",
          "name": "stdout",
          "text": [
            "1 2 3 4 5 6 7 8 9 10 "
          ]
        }
      ]
    },
    {
      "cell_type": "code",
      "source": [
        "for i in range(1,4):\n",
        "  for j in range(1,4):\n",
        "    print(i,'x',j,'=',i*j)\n",
        "  print('......')"
      ],
      "metadata": {
        "colab": {
          "base_uri": "https://localhost:8080/"
        },
        "id": "fBz72ttIRSBI",
        "outputId": "ea6bcc1e-d4e3-465b-dcaf-93e29c083fcf"
      },
      "execution_count": null,
      "outputs": [
        {
          "output_type": "stream",
          "name": "stdout",
          "text": [
            "1 x 1 = 1\n",
            "1 x 2 = 2\n",
            "1 x 3 = 3\n",
            "......\n",
            "2 x 1 = 2\n",
            "2 x 2 = 4\n",
            "2 x 3 = 6\n",
            "......\n",
            "3 x 1 = 3\n",
            "3 x 2 = 6\n",
            "3 x 3 = 9\n",
            "......\n"
          ]
        }
      ]
    },
    {
      "cell_type": "code",
      "source": [
        "for i in range(1,11):\n",
        "  if i ==6:\n",
        "    break\n",
        "  print(i,end=' ')"
      ],
      "metadata": {
        "colab": {
          "base_uri": "https://localhost:8080/"
        },
        "id": "Sil1PofRR-5H",
        "outputId": "6919ce4a-e3c5-474d-ff00-c7f8cc188cf7"
      },
      "execution_count": null,
      "outputs": [
        {
          "output_type": "stream",
          "name": "stdout",
          "text": [
            "1 2 3 4 5 "
          ]
        }
      ]
    },
    {
      "cell_type": "code",
      "source": [
        "for i in range(1,11):\n",
        "  if i==6:\n",
        "    continue\n",
        "  print(i)"
      ],
      "metadata": {
        "colab": {
          "base_uri": "https://localhost:8080/"
        },
        "id": "kalmo8k0SJZv",
        "outputId": "0d323caa-dc06-4a24-827d-442554d87a8c"
      },
      "execution_count": null,
      "outputs": [
        {
          "output_type": "stream",
          "name": "stdout",
          "text": [
            "1\n",
            "2\n",
            "3\n",
            "4\n",
            "5\n",
            "7\n",
            "8\n",
            "9\n",
            "10\n"
          ]
        }
      ]
    },
    {
      "cell_type": "code",
      "source": [
        "for i in range(1,11):\n",
        "  if i==6:\n",
        "    continue\n",
        "  print(i,end='  ')"
      ],
      "metadata": {
        "colab": {
          "base_uri": "https://localhost:8080/"
        },
        "id": "nN-CQqHdSbVX",
        "outputId": "9505e5aa-afee-4835-cea3-279b7c0458fd"
      },
      "execution_count": null,
      "outputs": [
        {
          "output_type": "stream",
          "name": "stdout",
          "text": [
            "1  2  3  4  5  7  8  9  10  "
          ]
        }
      ]
    },
    {
      "cell_type": "code",
      "source": [
        "for i in range(1,101):\n",
        "  if i%2==0:\n",
        "    continue\n",
        "  print(i,end='  ')"
      ],
      "metadata": {
        "colab": {
          "base_uri": "https://localhost:8080/"
        },
        "id": "2_ATJD12SfHo",
        "outputId": "d704c339-812b-4eaf-a75e-1e113376d2ea"
      },
      "execution_count": null,
      "outputs": [
        {
          "output_type": "stream",
          "name": "stdout",
          "text": [
            "1  3  5  7  9  11  13  15  17  19  21  23  25  27  29  31  33  35  37  39  41  43  45  47  49  51  53  55  57  59  61  63  65  67  69  71  73  75  77  79  81  83  85  87  89  91  93  95  97  99  "
          ]
        }
      ]
    },
    {
      "cell_type": "code",
      "source": [
        "for i in range(1,101):\n",
        "  if i%10!=0:\n",
        "    continue\n",
        "  print(i,end='  ')"
      ],
      "metadata": {
        "colab": {
          "base_uri": "https://localhost:8080/"
        },
        "id": "DqlhWLeQSvTg",
        "outputId": "f735c60b-7855-4e92-ad0e-baede2528c01"
      },
      "execution_count": null,
      "outputs": [
        {
          "output_type": "stream",
          "name": "stdout",
          "text": [
            "10  20  30  40  50  60  70  80  90  100  "
          ]
        }
      ]
    },
    {
      "cell_type": "code",
      "source": [],
      "metadata": {
        "id": "ET9oWu75TBR3"
      },
      "execution_count": null,
      "outputs": []
    }
  ]
}