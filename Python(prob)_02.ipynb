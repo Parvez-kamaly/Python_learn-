{
  "nbformat": 4,
  "nbformat_minor": 0,
  "metadata": {
    "colab": {
      "provenance": [],
      "authorship_tag": "ABX9TyOuD2vwvQuas4rkEVlQZpcb",
      "include_colab_link": true
    },
    "kernelspec": {
      "name": "python3",
      "display_name": "Python 3"
    },
    "language_info": {
      "name": "python"
    }
  },
  "cells": [
    {
      "cell_type": "markdown",
      "metadata": {
        "id": "view-in-github",
        "colab_type": "text"
      },
      "source": [
        "<a href=\"https://colab.research.google.com/github/Parvez-kamaly/Python_learn-/blob/main/Python(prob)_02.ipynb\" target=\"_parent\"><img src=\"https://colab.research.google.com/assets/colab-badge.svg\" alt=\"Open In Colab\"/></a>"
      ]
    },
    {
      "cell_type": "markdown",
      "source": [
        "**Loops**"
      ],
      "metadata": {
        "id": "HIhJ8pTSINlE"
      }
    },
    {
      "cell_type": "markdown",
      "source": [
        "**Print Fibonacci sequence up to n.**"
      ],
      "metadata": {
        "id": "jhTBUHTXJkgc"
      }
    },
    {
      "cell_type": "code",
      "execution_count": null,
      "metadata": {
        "colab": {
          "base_uri": "https://localhost:8080/"
        },
        "id": "q5DLcj0CH6nR",
        "outputId": "67347fbe-2651-42eb-938b-e8b78d44caca"
      },
      "outputs": [
        {
          "output_type": "stream",
          "name": "stdout",
          "text": [
            "0 1 1 2 3 5 8 "
          ]
        }
      ],
      "source": [
        "n=10\n",
        "a,b=0,1   #First two number\n",
        "\n",
        "while a<=n:\n",
        "  print(a,end=' ')\n",
        "  a,b=b,a+b"
      ]
    },
    {
      "cell_type": "markdown",
      "source": [
        "**Print all prime numbers up to n.**"
      ],
      "metadata": {
        "id": "DEktc878Mtr-"
      }
    },
    {
      "cell_type": "code",
      "source": [
        "n=20\n",
        "for num in range(2,n+1):\n",
        "  is_prime=True\n",
        "  for i in range(2,int(num**0.5)+1):   #check visiablity\n",
        "      if num%i==0:\n",
        "        is_prime = False\n",
        "        break\n",
        "  if is_prime:\n",
        "    print(num,end=' ')"
      ],
      "metadata": {
        "colab": {
          "base_uri": "https://localhost:8080/"
        },
        "id": "4-n8FtmZJ0O9",
        "outputId": "1edebf09-de25-4fde-d8ba-c28d9054f502"
      },
      "execution_count": null,
      "outputs": [
        {
          "output_type": "stream",
          "name": "stdout",
          "text": [
            "2 3 5 7 11 13 17 19 "
          ]
        }
      ]
    },
    {
      "cell_type": "code",
      "source": [
        "#alternate method\n",
        "n=20\n",
        "\n",
        "for num in range(2,n+1):\n",
        "  if all(num%i !=0 for i in range(2,int(num**0.5)+1)):\n",
        "    print(num,end='  ')"
      ],
      "metadata": {
        "colab": {
          "base_uri": "https://localhost:8080/"
        },
        "id": "o71owXUXNNhP",
        "outputId": "7d2ff8c2-999d-4bb6-e9d8-23ae6224860b"
      },
      "execution_count": null,
      "outputs": [
        {
          "output_type": "stream",
          "name": "stdout",
          "text": [
            "2  3  5  7  11  13  17  19  "
          ]
        }
      ]
    },
    {
      "cell_type": "markdown",
      "source": [
        "**Print a pyramid pattern of * .**"
      ],
      "metadata": {
        "id": "ie6NiLjOQBiO"
      }
    },
    {
      "cell_type": "code",
      "source": [
        "n=5 #no of rows\n",
        "\n",
        "for i in range(1,n+1):\n",
        "  #print leading spaces\n",
        "  print(' ' *(n-i),end='')\n",
        "  #print stars\n",
        "  print('*'*(2*i-1))"
      ],
      "metadata": {
        "colab": {
          "base_uri": "https://localhost:8080/"
        },
        "id": "M4U6-qhlN9h3",
        "outputId": "9a250bdd-1d49-4e15-9023-030a9cb9de09"
      },
      "execution_count": null,
      "outputs": [
        {
          "output_type": "stream",
          "name": "stdout",
          "text": [
            "    *\n",
            "   ***\n",
            "  *****\n",
            " *******\n",
            "*********\n"
          ]
        }
      ]
    },
    {
      "cell_type": "markdown",
      "source": [
        "**Find the factorial of a number using a loop.**"
      ],
      "metadata": {
        "id": "rfqMc4r1RaE3"
      }
    },
    {
      "cell_type": "code",
      "source": [
        "n=5\n",
        "factorial=1\n",
        "\n",
        "for i in range(1,n+1):\n",
        "  factorial *=i   #factorial=factorial * i\n",
        "print('Factorial of',n,'is',factorial)"
      ],
      "metadata": {
        "colab": {
          "base_uri": "https://localhost:8080/"
        },
        "id": "iNllJif7QeRI",
        "outputId": "d8cf421b-40e4-4475-aef9-e1f21591cee2"
      },
      "execution_count": null,
      "outputs": [
        {
          "output_type": "stream",
          "name": "stdout",
          "text": [
            "Factorial of 5 is 120\n"
          ]
        }
      ]
    },
    {
      "cell_type": "code",
      "source": [],
      "metadata": {
        "id": "etRtamwGR4gg"
      },
      "execution_count": null,
      "outputs": []
    }
  ]
}