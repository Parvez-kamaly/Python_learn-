{
  "nbformat": 4,
  "nbformat_minor": 0,
  "metadata": {
    "colab": {
      "provenance": [],
      "authorship_tag": "ABX9TyPkFBQWqkRCn7/RoUtKTRAo",
      "include_colab_link": true
    },
    "kernelspec": {
      "name": "python3",
      "display_name": "Python 3"
    },
    "language_info": {
      "name": "python"
    }
  },
  "cells": [
    {
      "cell_type": "markdown",
      "metadata": {
        "id": "view-in-github",
        "colab_type": "text"
      },
      "source": [
        "<a href=\"https://colab.research.google.com/github/Parvez-kamaly/Python_learn-/blob/main/Python_(4).ipynb\" target=\"_parent\"><img src=\"https://colab.research.google.com/assets/colab-badge.svg\" alt=\"Open In Colab\"/></a>"
      ]
    },
    {
      "cell_type": "markdown",
      "source": [
        "**Function**"
      ],
      "metadata": {
        "id": "hzWBlpIJ2kWr"
      }
    },
    {
      "cell_type": "code",
      "execution_count": null,
      "metadata": {
        "colab": {
          "base_uri": "https://localhost:8080/"
        },
        "id": "X3kRTyNPyaqD",
        "outputId": "9945e1f5-01d8-4836-87c1-9ce80e20d845"
      },
      "outputs": [
        {
          "output_type": "stream",
          "name": "stdout",
          "text": [
            "Hello Parvez, Welcome to EEE department\n"
          ]
        }
      ],
      "source": [
        "def greet():\n",
        "  print('Hello Parvez, Welcome to EEE department')\n",
        "\n",
        "greet()"
      ]
    },
    {
      "cell_type": "code",
      "source": [
        "def greet(name):\n",
        "  print('Hello',name,'welcome to EEE department')\n",
        "\n",
        "greet('Parvez')"
      ],
      "metadata": {
        "colab": {
          "base_uri": "https://localhost:8080/"
        },
        "id": "Sln1Hv4_1Vn1",
        "outputId": "20afe80e-9ece-4297-da53-07ec541ecd12"
      },
      "execution_count": null,
      "outputs": [
        {
          "output_type": "stream",
          "name": "stdout",
          "text": [
            "Hello Parvez welcome to EEE department\n"
          ]
        }
      ]
    },
    {
      "cell_type": "code",
      "source": [
        "def greet(age):\n",
        "  print('I am',age, 'years old')\n",
        "greet(25)"
      ],
      "metadata": {
        "colab": {
          "base_uri": "https://localhost:8080/"
        },
        "id": "mxH_FBT62y58",
        "outputId": "083f85fd-fc91-43f7-8e03-d7843eb0d103"
      },
      "execution_count": null,
      "outputs": [
        {
          "output_type": "stream",
          "name": "stdout",
          "text": [
            "I am 25 years old\n"
          ]
        }
      ]
    },
    {
      "cell_type": "code",
      "source": [
        "def greet(age):\n",
        "  if age>20:\n",
        "    print('I am adult',age)\n",
        "  else:\n",
        "    print('I am child',age)\n",
        "\n",
        "greet(16)"
      ],
      "metadata": {
        "colab": {
          "base_uri": "https://localhost:8080/"
        },
        "id": "8OSWR_0K3Fzy",
        "outputId": "e071ae06-7629-4bfd-af49-731f5c2e4617"
      },
      "execution_count": null,
      "outputs": [
        {
          "output_type": "stream",
          "name": "stdout",
          "text": [
            "I am child 16\n"
          ]
        }
      ]
    },
    {
      "cell_type": "code",
      "source": [
        "def greet(name,message):\n",
        "  print(name,message)\n",
        "\n",
        "greet(name='Parvez',message='Welcome to EEE department')"
      ],
      "metadata": {
        "colab": {
          "base_uri": "https://localhost:8080/"
        },
        "id": "g__4pW3Y3m1E",
        "outputId": "35f0e5e6-8113-4bfc-a746-c783d57ac6fd"
      },
      "execution_count": null,
      "outputs": [
        {
          "output_type": "stream",
          "name": "stdout",
          "text": [
            "Parvez Welcome to EEE department\n"
          ]
        }
      ]
    },
    {
      "cell_type": "markdown",
      "source": [
        "**Return statement**"
      ],
      "metadata": {
        "id": "bzHTyCiE49sc"
      }
    },
    {
      "cell_type": "code",
      "source": [
        "def add(x,y):\n",
        "  return x+y\n",
        "add(3,4)"
      ],
      "metadata": {
        "colab": {
          "base_uri": "https://localhost:8080/"
        },
        "id": "_lpsNKjq4ebj",
        "outputId": "42dd1780-4f50-4b79-9eef-0b9d9604ce99"
      },
      "execution_count": null,
      "outputs": [
        {
          "output_type": "execute_result",
          "data": {
            "text/plain": [
              "7"
            ]
          },
          "metadata": {},
          "execution_count": 9
        }
      ]
    },
    {
      "cell_type": "code",
      "source": [
        "def add(x,y):\n",
        "  return x+y\n",
        "result=add(3,5)\n",
        "print(result)"
      ],
      "metadata": {
        "colab": {
          "base_uri": "https://localhost:8080/"
        },
        "id": "7GOfbVXb5M6k",
        "outputId": "353d4608-0754-468c-f71f-2e6ae86fb89b"
      },
      "execution_count": null,
      "outputs": [
        {
          "output_type": "stream",
          "name": "stdout",
          "text": [
            "8\n"
          ]
        }
      ]
    },
    {
      "cell_type": "code",
      "source": [
        "def area(r):\n",
        "  return  3.14*r*r\n",
        "\n",
        "area(4)"
      ],
      "metadata": {
        "colab": {
          "base_uri": "https://localhost:8080/"
        },
        "id": "fiQoiXIB5VfL",
        "outputId": "735c6f04-59bd-413e-a82e-20f9253ba7d7"
      },
      "execution_count": null,
      "outputs": [
        {
          "output_type": "execute_result",
          "data": {
            "text/plain": [
              "50.24"
            ]
          },
          "metadata": {},
          "execution_count": 12
        }
      ]
    },
    {
      "cell_type": "code",
      "source": [
        "def  average(x,y,z):\n",
        "  return (x+y+z)/2\n",
        "value=average(10,20,30)\n",
        "print(value)"
      ],
      "metadata": {
        "colab": {
          "base_uri": "https://localhost:8080/"
        },
        "id": "tezFrZF95uYl",
        "outputId": "7d0044f5-0676-47b0-a266-ced19f728b45"
      },
      "execution_count": null,
      "outputs": [
        {
          "output_type": "stream",
          "name": "stdout",
          "text": [
            "30.0\n"
          ]
        }
      ]
    },
    {
      "cell_type": "code",
      "source": [
        "def calculate_stats(numbers):\n",
        "    # Ensure the list is not empty\n",
        "    if len(numbers) == 0:\n",
        "        return \"List is empty, cannot calculate stats.\"\n",
        "\n",
        "    # Calculate stats\n",
        "    stats = {\n",
        "        'min': min(numbers),\n",
        "        'max': max(numbers),\n",
        "        'sum': sum(numbers),\n",
        "        'average': sum(numbers) / len(numbers)  # Calculate the average\n",
        "    }\n",
        "    return stats\n",
        "\n",
        "numbers_list=[10,30,40,60]\n",
        "calculate_stats(numbers_list)\n"
      ],
      "metadata": {
        "colab": {
          "base_uri": "https://localhost:8080/"
        },
        "id": "_gSLIkDh9Zk0",
        "outputId": "54cc4e73-d9ea-425f-b638-a2470b1969b2"
      },
      "execution_count": null,
      "outputs": [
        {
          "output_type": "execute_result",
          "data": {
            "text/plain": [
              "{'min': 10, 'max': 60, 'sum': 140, 'average': 35.0}"
            ]
          },
          "metadata": {},
          "execution_count": 15
        }
      ]
    },
    {
      "cell_type": "code",
      "source": [
        "def calculate(a,b,operation):\n",
        "  if operation == 'add':\n",
        "    return a+b\n",
        "  elif operation =='sub':\n",
        "    return a-b\n",
        "  elif operation =='mul':\n",
        "    return a*b\n",
        "  elif operation =='div':\n",
        "    return a/b\n",
        "\n",
        "  else:\n",
        "    return 'invalid operators'\n",
        "\n",
        "calculate(10,20,'add')"
      ],
      "metadata": {
        "colab": {
          "base_uri": "https://localhost:8080/"
        },
        "id": "eiM1ly4C94E1",
        "outputId": "9188d075-ef28-4cbd-8ee0-ce6eb5937089"
      },
      "execution_count": null,
      "outputs": [
        {
          "output_type": "execute_result",
          "data": {
            "text/plain": [
              "30"
            ]
          },
          "metadata": {},
          "execution_count": 16
        }
      ]
    },
    {
      "cell_type": "code",
      "source": [
        "calculate(28,2,'sub')"
      ],
      "metadata": {
        "colab": {
          "base_uri": "https://localhost:8080/"
        },
        "id": "p4BTovASMoC0",
        "outputId": "df692670-56df-40cd-de9e-3eb31fd66cf7"
      },
      "execution_count": null,
      "outputs": [
        {
          "output_type": "execute_result",
          "data": {
            "text/plain": [
              "26"
            ]
          },
          "metadata": {},
          "execution_count": 17
        }
      ]
    },
    {
      "cell_type": "code",
      "source": [
        "calculate(33,3,'div')"
      ],
      "metadata": {
        "colab": {
          "base_uri": "https://localhost:8080/"
        },
        "id": "PKlHZZVwMsri",
        "outputId": "a98d0dd9-1afc-4517-ad3e-5a91a474f63b"
      },
      "execution_count": null,
      "outputs": [
        {
          "output_type": "execute_result",
          "data": {
            "text/plain": [
              "11.0"
            ]
          },
          "metadata": {},
          "execution_count": 18
        }
      ]
    },
    {
      "cell_type": "code",
      "source": [
        "def cal_stats(numbers):\n",
        "  stats={\n",
        "      'min':min(numbers),\n",
        "      'max':max(numbers),\n",
        "      'sum':sum(numbers),\n",
        "      'average':sum(numbers)/len(numbers)\n",
        "\n",
        "}\n",
        "  return stats\n",
        "\n",
        "list=[10,30,40,50,20,100,2000,3000]\n",
        "cal_stats(list)\n"
      ],
      "metadata": {
        "colab": {
          "base_uri": "https://localhost:8080/"
        },
        "id": "OWbb_aN0MwNy",
        "outputId": "e4f430ed-df8a-41f4-f119-df6e105af024"
      },
      "execution_count": null,
      "outputs": [
        {
          "output_type": "execute_result",
          "data": {
            "text/plain": [
              "{'min': 10, 'max': 3000, 'sum': 5250, 'average': 656.25}"
            ]
          },
          "metadata": {},
          "execution_count": 20
        }
      ]
    },
    {
      "cell_type": "code",
      "source": [
        "num=[40,30,202,300]\n",
        "cal_stats(num)"
      ],
      "metadata": {
        "colab": {
          "base_uri": "https://localhost:8080/"
        },
        "id": "8ZzykZwPNm9E",
        "outputId": "750bc675-071a-48aa-9aba-5bafadf5bb8a"
      },
      "execution_count": null,
      "outputs": [
        {
          "output_type": "execute_result",
          "data": {
            "text/plain": [
              "{'min': 30, 'max': 300, 'sum': 572, 'average': 143.0}"
            ]
          },
          "metadata": {},
          "execution_count": 21
        }
      ]
    },
    {
      "cell_type": "code",
      "source": [
        "\n",
        "def students_info(name,roll,gpa,merit):\n",
        "  info={\n",
        "         'Name':name,\n",
        "         'Roll':roll,\n",
        "         'GPA':gpa,\n",
        "         'Merit':merit\n",
        "   }\n",
        "\n",
        "  return info\n",
        "\n",
        "list=['Parvez',20,3.5,'Third postion']\n",
        "students_info(*list)    #  * --its unpack the list\n",
        "\n"
      ],
      "metadata": {
        "colab": {
          "base_uri": "https://localhost:8080/"
        },
        "id": "exhc-kBoNu8K",
        "outputId": "74443811-dfb7-4812-93d7-f9bb100e2ab8"
      },
      "execution_count": null,
      "outputs": [
        {
          "output_type": "execute_result",
          "data": {
            "text/plain": [
              "{'Name': 'Parvez', 'Roll': 20, 'GPA': 3.5, 'Merit': 'Third postion'}"
            ]
          },
          "metadata": {},
          "execution_count": 27
        }
      ]
    },
    {
      "cell_type": "code",
      "source": [
        "def address(name,house_no,area_location):\n",
        "  add={\n",
        "        'Name':name,\n",
        "        'House_no':house_no,\n",
        "        'Area':area_location\n",
        "\n",
        "  }\n",
        "  return add\n",
        "\n",
        "list=['Parvez',4,'Madina Marker,kalibary, block-A']\n",
        "address(*list)"
      ],
      "metadata": {
        "colab": {
          "base_uri": "https://localhost:8080/"
        },
        "id": "QG4jHt6ZQqxk",
        "outputId": "ae48b8cb-5dbd-486a-8dc4-239eefd675f0"
      },
      "execution_count": null,
      "outputs": [
        {
          "output_type": "execute_result",
          "data": {
            "text/plain": [
              "{'Name': 'Parvez', 'House_no': 4, 'Area': 'Madina Marker,kalibary, block-A'}"
            ]
          },
          "metadata": {},
          "execution_count": 28
        }
      ]
    },
    {
      "cell_type": "code",
      "source": [],
      "metadata": {
        "id": "dwotqajLSa7L"
      },
      "execution_count": null,
      "outputs": []
    }
  ]
}